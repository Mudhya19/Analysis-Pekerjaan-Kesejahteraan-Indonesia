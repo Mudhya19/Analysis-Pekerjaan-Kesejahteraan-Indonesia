{
 "cells": [
  {
   "cell_type": "markdown",
   "metadata": {},
   "source": [
    "Sebagai seseorang yang baru saja memasuki dunia kerja, mungkin kita semua akan mengalami kebingungan dimulai dari di daerah mana kita akan bekerja, berapa upah yang akan didapatkan, serta apakah pendapatan tersebut akan mencukupi untuk kebutuhan sehari-hari. Melalui beberapa data yang bersumber dari Badan Pusat Statistik (BPS), dashboard ini mencoba membantu pekerja dalam memilih tempat bekerja berdasarkan beberapa variabel seperti pendapatan dan pengeluaran. Beberapa hal tersebut menjadikan Dashboard Pekerja Sejahtera ini sangat penting dan relevan sebab kondisi persaingan dunia kerja yang sangat ketat sehingga bagi pekerja tentu dibutuhkan perencanaan yang matang termasuk memikirkan kesejahteraannya berdasarkan pilihan-pilihan yang telah dibuat.\n",
    "\n",
    "    upah.df.csv: dataset Rata-Rata Upah Pekerja Per Jam dengan disagregasi Provinsi dan Tahun\n",
    "    ump.df.csv: dataset Upah Minimum Provinsi (UMP) dengan disagregasi Provinsi dan Tahun\n",
    "    gk.df.csv: dataset **Garis Kemiskinan Per Kapita **dengan disagregasi Provinsi, Tahun, Periode Survei, Jenis Pengeluaran, dan Daerah Tempat Tinggal.\n",
    "    peng.df.csv: dataset Rata-Rata Pengeluaran Per Kapita dengan disagregasi Provinsi, Tahun, Jenis Pengeluaran, dan Daerah Tempat Tinggal.\n"
   ]
  },
  {
   "cell_type": "markdown",
   "metadata": {},
   "source": [
    "# SMART Question \n",
    "1. Specifict\n",
    "- apa saja 5 provinsi dengan upah tertinggi dan terendah ?\n",
    "\n",
    "2. Measurable\n",
    "- berapa UMP dalam 5 provinsi tertinggi dan terendah ?\n",
    "\n",
    "3. Action-oriented\n",
    "- Bagaimana cara meningkatkan UMP setiap provinsi yang terendah? untuk mendapatkan upah yang layak agar mengatasi garis kemiskinan \n",
    "\n",
    "4. Relavant \n",
    "-  Bagaimana mengatasi garis kemiskinan untuk pekerja mendapatkan upah yang layak agar mengatasi permasalahan pengeluaran, untuk kesejahteraan pekerja tersebut?\n",
    "\n",
    "5. Time-Bounded\n",
    "- Bagaimana tren rata-rata upah pekerja per jam di berbagai provinsi selama beberapa tahun terakhir?\n"
   ]
  },
  {
   "cell_type": "markdown",
   "metadata": {},
   "source": [
    "# Importing Library"
   ]
  },
  {
   "cell_type": "code",
   "execution_count": 1,
   "metadata": {},
   "outputs": [],
   "source": [
    "import numpy as np\n",
    "import pandas as pd\n",
    "import matplotlib.pyplot as plt\n",
    "import matplotlib.ticker as ticker\n",
    "import seaborn as sns\n",
    "import warnings\n",
    "\n",
    "\n",
    "warnings.filterwarnings('ignore')\n",
    "sns.set(style='whitegrid')\n",
    "plt.style.use('Solarize_Light2')"
   ]
  },
  {
   "cell_type": "markdown",
   "metadata": {},
   "source": [
    "# Data Wrangling"
   ]
  },
  {
   "cell_type": "markdown",
   "metadata": {},
   "source": [
    "## Gathering Data"
   ]
  },
  {
   "cell_type": "code",
   "execution_count": 2,
   "metadata": {},
   "outputs": [],
   "source": [
    "df_gk = pd.read_csv('../datasets/kesejahteraanPekerjaanIndonesia/gk.df.csv')\n",
    "df_peng = pd.read_csv('../datasets/kesejahteraanPekerjaanIndonesia/peng.df.csv')\n",
    "df_ump = pd.read_csv('../datasets/kesejahteraanPekerjaanIndonesia/ump.df.csv')\n",
    "df_upah = pd.read_csv('../datasets/kesejahteraanPekerjaanIndonesia/upah.df.csv')"
   ]
  },
  {
   "cell_type": "code",
   "execution_count": 3,
   "metadata": {},
   "outputs": [
    {
     "name": "stdout",
     "output_type": "stream",
     "text": [
      "Garis Kemiskinan Per Kapita yang ada di indonesia\n",
      "   provinsi    jenis     daerah  tahun    periode        gk\n",
      "0     ACEH  MAKANAN  PERKOTAAN   2015      MARET  293697.0\n",
      "1     ACEH  MAKANAN  PERKOTAAN   2015  SEPTEMBER  302128.0\n",
      "2     ACEH  MAKANAN  PERKOTAAN   2016      MARET  306243.0\n",
      "3     ACEH  MAKANAN  PERKOTAAN   2016  SEPTEMBER  319768.0\n",
      "4     ACEH  MAKANAN  PERDESAAN   2015      MARET  297479.0\n"
     ]
    }
   ],
   "source": [
    "print('Garis Kemiskinan Per Kapita yang ada di indonesia\\n', df_gk.head())"
   ]
  },
  {
   "cell_type": "code",
   "execution_count": 4,
   "metadata": {},
   "outputs": [
    {
     "name": "stdout",
     "output_type": "stream",
     "text": [
      "Rata-rata pengeluaran dan daerah tempat tinggal yang ada di indonesia \n",
      "   provinsi     daerah    jenis  tahun      peng\n",
      "0     ACEH  PERDESAAN  MAKANAN   2007  195176.0\n",
      "1     ACEH  PERDESAAN  MAKANAN   2008  218781.0\n",
      "2     ACEH  PERDESAAN  MAKANAN   2009  247427.0\n",
      "3     ACEH  PERDESAAN  MAKANAN   2010  275749.0\n",
      "4     ACEH  PERDESAAN  MAKANAN   2011  308000.0\n"
     ]
    }
   ],
   "source": [
    "print('Rata-rata pengeluaran dan daerah tempat tinggal yang ada di indonesia \\n', df_peng.head())"
   ]
  },
  {
   "cell_type": "code",
   "execution_count": 5,
   "metadata": {},
   "outputs": [
    {
     "name": "stdout",
     "output_type": "stream",
     "text": [
      "Upah Minimum Provinsi yang ada di indonesia \n",
      "   provinsi  tahun       ump\n",
      "0     ACEH   2002  330000.0\n",
      "1     ACEH   2003  425000.0\n",
      "2     ACEH   2004  550000.0\n",
      "3     ACEH   2005  620000.0\n",
      "4     ACEH   2006  820000.0\n"
     ]
    }
   ],
   "source": [
    "print('Upah Minimum Provinsi yang ada di indonesia \\n', df_ump.head())"
   ]
  },
  {
   "cell_type": "code",
   "execution_count": 6,
   "metadata": {},
   "outputs": [
    {
     "name": "stdout",
     "output_type": "stream",
     "text": [
      "Rata-rata Upah Pekerja Per jam yang ada di indonesia \n",
      "   provinsi  tahun   upah\n",
      "0     ACEH   2015  11226\n",
      "1     ACEH   2016  13627\n",
      "2     ACEH   2017  14809\n",
      "3     ACEH   2018  13814\n",
      "4     ACEH   2019  15065\n"
     ]
    }
   ],
   "source": [
    "print('Rata-rata Upah Pekerja Per jam yang ada di indonesia \\n', df_upah.head())"
   ]
  },
  {
   "cell_type": "markdown",
   "metadata": {},
   "source": [
    "## Assesing Data"
   ]
  },
  {
   "cell_type": "markdown",
   "metadata": {},
   "source": [
    "### Menilai tabal garis kemiskinan"
   ]
  },
  {
   "cell_type": "code",
   "execution_count": 7,
   "metadata": {},
   "outputs": [
    {
     "name": "stdout",
     "output_type": "stream",
     "text": [
      "<class 'pandas.core.frame.DataFrame'>\n",
      "RangeIndex: 5460 entries, 0 to 5459\n",
      "Data columns (total 6 columns):\n",
      " #   Column    Non-Null Count  Dtype  \n",
      "---  ------    --------------  -----  \n",
      " 0   provinsi  5460 non-null   object \n",
      " 1   jenis     5460 non-null   object \n",
      " 2   daerah    5460 non-null   object \n",
      " 3   tahun     5460 non-null   int64  \n",
      " 4   periode   5460 non-null   object \n",
      " 5   gk        5261 non-null   float64\n",
      "dtypes: float64(1), int64(1), object(4)\n",
      "memory usage: 256.1+ KB\n"
     ]
    }
   ],
   "source": [
    "df_gk.info()"
   ]
  },
  {
   "cell_type": "markdown",
   "metadata": {},
   "source": [
    "### Missing Value\n",
    "- Dataset Garis Kemiskinan"
   ]
  },
  {
   "cell_type": "code",
   "execution_count": 8,
   "metadata": {},
   "outputs": [
    {
     "data": {
      "text/plain": [
       "provinsi      0\n",
       "jenis         0\n",
       "daerah        0\n",
       "tahun         0\n",
       "periode       0\n",
       "gk          199\n",
       "dtype: int64"
      ]
     },
     "execution_count": 8,
     "metadata": {},
     "output_type": "execute_result"
    }
   ],
   "source": [
    "df_gk.isna().sum()"
   ]
  },
  {
   "cell_type": "markdown",
   "metadata": {},
   "source": [
    "### Duplicated Data"
   ]
  },
  {
   "cell_type": "code",
   "execution_count": 9,
   "metadata": {},
   "outputs": [
    {
     "name": "stdout",
     "output_type": "stream",
     "text": [
      "Jumlah Duplikasi :  0\n"
     ]
    },
    {
     "data": {
      "text/html": [
       "<style type=\"text/css\">\n",
       "#T_26960_row0_col0, #T_26960_row7_col1 {\n",
       "  background-color: #49006a;\n",
       "  color: #f1f1f1;\n",
       "}\n",
       "#T_26960_row0_col1, #T_26960_row2_col0 {\n",
       "  background-color: #fff7f3;\n",
       "  color: #000000;\n",
       "}\n",
       "#T_26960_row1_col0, #T_26960_row3_col0, #T_26960_row4_col0, #T_26960_row5_col0, #T_26960_row6_col0, #T_26960_row7_col0 {\n",
       "  background-color: #faa1b6;\n",
       "  color: #000000;\n",
       "}\n",
       "#T_26960_row1_col1 {\n",
       "  background-color: #faa8b8;\n",
       "  color: #000000;\n",
       "}\n",
       "#T_26960_row2_col1 {\n",
       "  background-color: #fdd5d1;\n",
       "  color: #000000;\n",
       "}\n",
       "#T_26960_row3_col1 {\n",
       "  background-color: #feeeeb;\n",
       "  color: #000000;\n",
       "}\n",
       "#T_26960_row4_col1 {\n",
       "  background-color: #fdd8d5;\n",
       "  color: #000000;\n",
       "}\n",
       "#T_26960_row5_col1 {\n",
       "  background-color: #faa6b7;\n",
       "  color: #000000;\n",
       "}\n",
       "#T_26960_row6_col1 {\n",
       "  background-color: #f877a6;\n",
       "  color: #f1f1f1;\n",
       "}\n",
       "</style>\n",
       "<table id=\"T_26960\">\n",
       "  <thead>\n",
       "    <tr>\n",
       "      <th class=\"blank level0\" >&nbsp;</th>\n",
       "      <th id=\"T_26960_level0_col0\" class=\"col_heading level0 col0\" >tahun</th>\n",
       "      <th id=\"T_26960_level0_col1\" class=\"col_heading level0 col1\" >gk</th>\n",
       "    </tr>\n",
       "  </thead>\n",
       "  <tbody>\n",
       "    <tr>\n",
       "      <th id=\"T_26960_level0_row0\" class=\"row_heading level0 row0\" >count</th>\n",
       "      <td id=\"T_26960_row0_col0\" class=\"data row0 col0\" >5460.000000</td>\n",
       "      <td id=\"T_26960_row0_col1\" class=\"data row0 col1\" >5261.000000</td>\n",
       "    </tr>\n",
       "    <tr>\n",
       "      <th id=\"T_26960_level0_row1\" class=\"row_heading level0 row1\" >mean</th>\n",
       "      <td id=\"T_26960_row1_col0\" class=\"data row1 col0\" >2018.115385</td>\n",
       "      <td id=\"T_26960_row1_col1\" class=\"data row1 col1\" >303904.185516</td>\n",
       "    </tr>\n",
       "    <tr>\n",
       "      <th id=\"T_26960_level0_row2\" class=\"row_heading level0 row2\" >std</th>\n",
       "      <td id=\"T_26960_row2_col0\" class=\"data row2 col0\" >2.577159</td>\n",
       "      <td id=\"T_26960_row2_col1\" class=\"data row2 col1\" >158176.024903</td>\n",
       "    </tr>\n",
       "    <tr>\n",
       "      <th id=\"T_26960_level0_row3\" class=\"row_heading level0 row3\" >min</th>\n",
       "      <td id=\"T_26960_row3_col0\" class=\"data row3 col0\" >2013.000000</td>\n",
       "      <td id=\"T_26960_row3_col1\" class=\"data row3 col1\" >48561.000000</td>\n",
       "    </tr>\n",
       "    <tr>\n",
       "      <th id=\"T_26960_level0_row4\" class=\"row_heading level0 row4\" >25%</th>\n",
       "      <td id=\"T_26960_row4_col0\" class=\"data row4 col0\" >2016.000000</td>\n",
       "      <td id=\"T_26960_row4_col1\" class=\"data row4 col1\" >144674.000000</td>\n",
       "    </tr>\n",
       "    <tr>\n",
       "      <th id=\"T_26960_level0_row5\" class=\"row_heading level0 row5\" >50%</th>\n",
       "      <td id=\"T_26960_row5_col0\" class=\"data row5 col0\" >2018.000000</td>\n",
       "      <td id=\"T_26960_row5_col1\" class=\"data row5 col1\" >313294.000000</td>\n",
       "    </tr>\n",
       "    <tr>\n",
       "      <th id=\"T_26960_level0_row6\" class=\"row_heading level0 row6\" >75%</th>\n",
       "      <td id=\"T_26960_row6_col0\" class=\"data row6 col0\" >2020.000000</td>\n",
       "      <td id=\"T_26960_row6_col1\" class=\"data row6 col1\" >410188.000000</td>\n",
       "    </tr>\n",
       "    <tr>\n",
       "      <th id=\"T_26960_level0_row7\" class=\"row_heading level0 row7\" >max</th>\n",
       "      <td id=\"T_26960_row7_col0\" class=\"data row7 col0\" >2022.000000</td>\n",
       "      <td id=\"T_26960_row7_col1\" class=\"data row7 col1\" >872843.000000</td>\n",
       "    </tr>\n",
       "  </tbody>\n",
       "</table>\n"
      ],
      "text/plain": [
       "<pandas.io.formats.style.Styler at 0x230f85c7390>"
      ]
     },
     "execution_count": 9,
     "metadata": {},
     "output_type": "execute_result"
    }
   ],
   "source": [
    "print('Jumlah Duplikasi : ', df_gk.duplicated().sum())\n",
    "df_gk.describe().style.background_gradient(cmap='RdPu')"
   ]
  },
  {
   "cell_type": "markdown",
   "metadata": {},
   "source": [
    "### Menilai Tabel pengeluaran"
   ]
  },
  {
   "cell_type": "code",
   "execution_count": 10,
   "metadata": {},
   "outputs": [
    {
     "name": "stdout",
     "output_type": "stream",
     "text": [
      "<class 'pandas.core.frame.DataFrame'>\n",
      "RangeIndex: 4620 entries, 0 to 4619\n",
      "Data columns (total 5 columns):\n",
      " #   Column    Non-Null Count  Dtype  \n",
      "---  ------    --------------  -----  \n",
      " 0   provinsi  4620 non-null   object \n",
      " 1   daerah    4620 non-null   object \n",
      " 2   jenis     4620 non-null   object \n",
      " 3   tahun     4620 non-null   int64  \n",
      " 4   peng      4512 non-null   float64\n",
      "dtypes: float64(1), int64(1), object(3)\n",
      "memory usage: 180.6+ KB\n"
     ]
    }
   ],
   "source": [
    "df_peng.info()"
   ]
  },
  {
   "cell_type": "markdown",
   "metadata": {},
   "source": [
    "### Missng Value\n",
    "- Dataset Pengeluaran"
   ]
  },
  {
   "cell_type": "code",
   "execution_count": 11,
   "metadata": {},
   "outputs": [
    {
     "data": {
      "text/plain": [
       "provinsi      0\n",
       "daerah        0\n",
       "jenis         0\n",
       "tahun         0\n",
       "peng        108\n",
       "dtype: int64"
      ]
     },
     "execution_count": 11,
     "metadata": {},
     "output_type": "execute_result"
    }
   ],
   "source": [
    "df_peng.isna().sum()"
   ]
  },
  {
   "cell_type": "markdown",
   "metadata": {},
   "source": [
    "### Duplicated"
   ]
  },
  {
   "cell_type": "code",
   "execution_count": 12,
   "metadata": {},
   "outputs": [
    {
     "name": "stdout",
     "output_type": "stream",
     "text": [
      "Jumlah Duplikasi :  0\n"
     ]
    },
    {
     "data": {
      "text/html": [
       "<style type=\"text/css\">\n",
       "#T_2e73c_row0_col0, #T_2e73c_row7_col1 {\n",
       "  background-color: #49006a;\n",
       "  color: #f1f1f1;\n",
       "}\n",
       "#T_2e73c_row0_col1, #T_2e73c_row2_col0 {\n",
       "  background-color: #fff7f3;\n",
       "  color: #000000;\n",
       "}\n",
       "#T_2e73c_row1_col0, #T_2e73c_row3_col0, #T_2e73c_row4_col0, #T_2e73c_row5_col0, #T_2e73c_row6_col0, #T_2e73c_row7_col0 {\n",
       "  background-color: #f984ab;\n",
       "  color: #f1f1f1;\n",
       "}\n",
       "#T_2e73c_row1_col1 {\n",
       "  background-color: #fcc8c3;\n",
       "  color: #000000;\n",
       "}\n",
       "#T_2e73c_row2_col1 {\n",
       "  background-color: #fdddda;\n",
       "  color: #000000;\n",
       "}\n",
       "#T_2e73c_row3_col1 {\n",
       "  background-color: #fff3f0;\n",
       "  color: #000000;\n",
       "}\n",
       "#T_2e73c_row4_col1 {\n",
       "  background-color: #fddedb;\n",
       "  color: #000000;\n",
       "}\n",
       "#T_2e73c_row5_col1 {\n",
       "  background-color: #fccfcb;\n",
       "  color: #000000;\n",
       "}\n",
       "#T_2e73c_row6_col1 {\n",
       "  background-color: #fbb6bc;\n",
       "  color: #000000;\n",
       "}\n",
       "</style>\n",
       "<table id=\"T_2e73c\">\n",
       "  <thead>\n",
       "    <tr>\n",
       "      <th class=\"blank level0\" >&nbsp;</th>\n",
       "      <th id=\"T_2e73c_level0_col0\" class=\"col_heading level0 col0\" >tahun</th>\n",
       "      <th id=\"T_2e73c_level0_col1\" class=\"col_heading level0 col1\" >peng</th>\n",
       "    </tr>\n",
       "  </thead>\n",
       "  <tbody>\n",
       "    <tr>\n",
       "      <th id=\"T_2e73c_level0_row0\" class=\"row_heading level0 row0\" >count</th>\n",
       "      <td id=\"T_2e73c_row0_col0\" class=\"data row0 col0\" >4620.000000</td>\n",
       "      <td id=\"T_2e73c_row0_col1\" class=\"data row0 col1\" >4512.000000</td>\n",
       "    </tr>\n",
       "    <tr>\n",
       "      <th id=\"T_2e73c_level0_row1\" class=\"row_heading level0 row1\" >mean</th>\n",
       "      <td id=\"T_2e73c_row1_col0\" class=\"data row1 col0\" >2015.045455</td>\n",
       "      <td id=\"T_2e73c_row1_col1\" class=\"data row1 col1\" >601201.168661</td>\n",
       "    </tr>\n",
       "    <tr>\n",
       "      <th id=\"T_2e73c_level0_row2\" class=\"row_heading level0 row2\" >std</th>\n",
       "      <td id=\"T_2e73c_row2_col0\" class=\"data row2 col0\" >4.416124</td>\n",
       "      <td id=\"T_2e73c_row2_col1\" class=\"data row2 col1\" >352405.192684</td>\n",
       "    </tr>\n",
       "    <tr>\n",
       "      <th id=\"T_2e73c_level0_row3\" class=\"row_heading level0 row3\" >min</th>\n",
       "      <td id=\"T_2e73c_row3_col0\" class=\"data row3 col0\" >2007.000000</td>\n",
       "      <td id=\"T_2e73c_row3_col1\" class=\"data row3 col1\" >59216.000000</td>\n",
       "    </tr>\n",
       "    <tr>\n",
       "      <th id=\"T_2e73c_level0_row4\" class=\"row_heading level0 row4\" >25%</th>\n",
       "      <td id=\"T_2e73c_row4_col0\" class=\"data row4 col0\" >2011.750000</td>\n",
       "      <td id=\"T_2e73c_row4_col1\" class=\"data row4 col1\" >347627.250000</td>\n",
       "    </tr>\n",
       "    <tr>\n",
       "      <th id=\"T_2e73c_level0_row5\" class=\"row_heading level0 row5\" >50%</th>\n",
       "      <td id=\"T_2e73c_row5_col0\" class=\"data row5 col0\" >2015.000000</td>\n",
       "      <td id=\"T_2e73c_row5_col1\" class=\"data row5 col1\" >520694.500000</td>\n",
       "    </tr>\n",
       "    <tr>\n",
       "      <th id=\"T_2e73c_level0_row6\" class=\"row_heading level0 row6\" >75%</th>\n",
       "      <td id=\"T_2e73c_row6_col0\" class=\"data row6 col0\" >2019.000000</td>\n",
       "      <td id=\"T_2e73c_row6_col1\" class=\"data row6 col1\" >757732.500000</td>\n",
       "    </tr>\n",
       "    <tr>\n",
       "      <th id=\"T_2e73c_level0_row7\" class=\"row_heading level0 row7\" >max</th>\n",
       "      <td id=\"T_2e73c_row7_col0\" class=\"data row7 col0\" >2022.000000</td>\n",
       "      <td id=\"T_2e73c_row7_col1\" class=\"data row7 col1\" >2525347.000000</td>\n",
       "    </tr>\n",
       "  </tbody>\n",
       "</table>\n"
      ],
      "text/plain": [
       "<pandas.io.formats.style.Styler at 0x230e0347c90>"
      ]
     },
     "execution_count": 12,
     "metadata": {},
     "output_type": "execute_result"
    }
   ],
   "source": [
    "print('Jumlah Duplikasi : ', df_peng.duplicated().sum())\n",
    "df_peng.describe().style.background_gradient(cmap='RdPu')"
   ]
  },
  {
   "cell_type": "markdown",
   "metadata": {},
   "source": [
    "### Entries Clear"
   ]
  },
  {
   "cell_type": "markdown",
   "metadata": {},
   "source": [
    "### Menilai tabel upah pekerja"
   ]
  },
  {
   "cell_type": "code",
   "execution_count": 13,
   "metadata": {},
   "outputs": [
    {
     "name": "stdout",
     "output_type": "stream",
     "text": [
      "<class 'pandas.core.frame.DataFrame'>\n",
      "RangeIndex: 280 entries, 0 to 279\n",
      "Data columns (total 3 columns):\n",
      " #   Column    Non-Null Count  Dtype \n",
      "---  ------    --------------  ----- \n",
      " 0   provinsi  280 non-null    object\n",
      " 1   tahun     280 non-null    int64 \n",
      " 2   upah      280 non-null    int64 \n",
      "dtypes: int64(2), object(1)\n",
      "memory usage: 6.7+ KB\n"
     ]
    }
   ],
   "source": [
    "df_upah.info()"
   ]
  },
  {
   "cell_type": "markdown",
   "metadata": {},
   "source": [
    "### Duplicated"
   ]
  },
  {
   "cell_type": "code",
   "execution_count": 14,
   "metadata": {},
   "outputs": [
    {
     "name": "stdout",
     "output_type": "stream",
     "text": [
      "Jumlah Duplikasi :  0\n"
     ]
    },
    {
     "data": {
      "text/html": [
       "<style type=\"text/css\">\n",
       "#T_cbd2a_row0_col0 {\n",
       "  background-color: #fdddda;\n",
       "  color: #000000;\n",
       "}\n",
       "#T_cbd2a_row0_col1, #T_cbd2a_row2_col0 {\n",
       "  background-color: #fff7f3;\n",
       "  color: #000000;\n",
       "}\n",
       "#T_cbd2a_row1_col0, #T_cbd2a_row3_col0, #T_cbd2a_row4_col0, #T_cbd2a_row5_col0, #T_cbd2a_row6_col0, #T_cbd2a_row7_col0, #T_cbd2a_row7_col1 {\n",
       "  background-color: #49006a;\n",
       "  color: #f1f1f1;\n",
       "}\n",
       "#T_cbd2a_row1_col1 {\n",
       "  background-color: #f666a1;\n",
       "  color: #f1f1f1;\n",
       "}\n",
       "#T_cbd2a_row2_col1 {\n",
       "  background-color: #fde0dd;\n",
       "  color: #000000;\n",
       "}\n",
       "#T_cbd2a_row3_col1 {\n",
       "  background-color: #fcc4c0;\n",
       "  color: #000000;\n",
       "}\n",
       "#T_cbd2a_row4_col1 {\n",
       "  background-color: #f991b0;\n",
       "  color: #000000;\n",
       "}\n",
       "#T_cbd2a_row5_col1 {\n",
       "  background-color: #f871a4;\n",
       "  color: #f1f1f1;\n",
       "}\n",
       "#T_cbd2a_row6_col1 {\n",
       "  background-color: #e94b9c;\n",
       "  color: #f1f1f1;\n",
       "}\n",
       "</style>\n",
       "<table id=\"T_cbd2a\">\n",
       "  <thead>\n",
       "    <tr>\n",
       "      <th class=\"blank level0\" >&nbsp;</th>\n",
       "      <th id=\"T_cbd2a_level0_col0\" class=\"col_heading level0 col0\" >tahun</th>\n",
       "      <th id=\"T_cbd2a_level0_col1\" class=\"col_heading level0 col1\" >upah</th>\n",
       "    </tr>\n",
       "  </thead>\n",
       "  <tbody>\n",
       "    <tr>\n",
       "      <th id=\"T_cbd2a_level0_row0\" class=\"row_heading level0 row0\" >count</th>\n",
       "      <td id=\"T_cbd2a_row0_col0\" class=\"data row0 col0\" >280.000000</td>\n",
       "      <td id=\"T_cbd2a_row0_col1\" class=\"data row0 col1\" >280.000000</td>\n",
       "    </tr>\n",
       "    <tr>\n",
       "      <th id=\"T_cbd2a_level0_row1\" class=\"row_heading level0 row1\" >mean</th>\n",
       "      <td id=\"T_cbd2a_row1_col0\" class=\"data row1 col0\" >2018.500000</td>\n",
       "      <td id=\"T_cbd2a_row1_col1\" class=\"data row1 col1\" >16621.010714</td>\n",
       "    </tr>\n",
       "    <tr>\n",
       "      <th id=\"T_cbd2a_level0_row2\" class=\"row_heading level0 row2\" >std</th>\n",
       "      <td id=\"T_cbd2a_row2_col0\" class=\"data row2 col0\" >2.295390</td>\n",
       "      <td id=\"T_cbd2a_row2_col1\" class=\"data row2 col1\" >4371.803056</td>\n",
       "    </tr>\n",
       "    <tr>\n",
       "      <th id=\"T_cbd2a_level0_row3\" class=\"row_heading level0 row3\" >min</th>\n",
       "      <td id=\"T_cbd2a_row3_col0\" class=\"data row3 col0\" >2015.000000</td>\n",
       "      <td id=\"T_cbd2a_row3_col1\" class=\"data row3 col1\" >8525.000000</td>\n",
       "    </tr>\n",
       "    <tr>\n",
       "      <th id=\"T_cbd2a_level0_row4\" class=\"row_heading level0 row4\" >25%</th>\n",
       "      <td id=\"T_cbd2a_row4_col0\" class=\"data row4 col0\" >2016.750000</td>\n",
       "      <td id=\"T_cbd2a_row4_col1\" class=\"data row4 col1\" >13468.750000</td>\n",
       "    </tr>\n",
       "    <tr>\n",
       "      <th id=\"T_cbd2a_level0_row5\" class=\"row_heading level0 row5\" >50%</th>\n",
       "      <td id=\"T_cbd2a_row5_col0\" class=\"data row5 col0\" >2018.500000</td>\n",
       "      <td id=\"T_cbd2a_row5_col1\" class=\"data row5 col1\" >15845.000000</td>\n",
       "    </tr>\n",
       "    <tr>\n",
       "      <th id=\"T_cbd2a_level0_row6\" class=\"row_heading level0 row6\" >75%</th>\n",
       "      <td id=\"T_cbd2a_row6_col0\" class=\"data row6 col0\" >2020.250000</td>\n",
       "      <td id=\"T_cbd2a_row6_col1\" class=\"data row6 col1\" >18634.750000</td>\n",
       "    </tr>\n",
       "    <tr>\n",
       "      <th id=\"T_cbd2a_level0_row7\" class=\"row_heading level0 row7\" >max</th>\n",
       "      <td id=\"T_cbd2a_row7_col0\" class=\"data row7 col0\" >2022.000000</td>\n",
       "      <td id=\"T_cbd2a_row7_col1\" class=\"data row7 col1\" >32685.000000</td>\n",
       "    </tr>\n",
       "  </tbody>\n",
       "</table>\n"
      ],
      "text/plain": [
       "<pandas.io.formats.style.Styler at 0x230f880f0d0>"
      ]
     },
     "execution_count": 14,
     "metadata": {},
     "output_type": "execute_result"
    }
   ],
   "source": [
    "print('Jumlah Duplikasi : ', df_upah.duplicated().sum())\n",
    "df_upah.describe().style.background_gradient(cmap='RdPu')"
   ]
  },
  {
   "cell_type": "markdown",
   "metadata": {},
   "source": [
    "### Menilai tabel ump"
   ]
  },
  {
   "cell_type": "code",
   "execution_count": 15,
   "metadata": {},
   "outputs": [
    {
     "name": "stdout",
     "output_type": "stream",
     "text": [
      "<class 'pandas.core.frame.DataFrame'>\n",
      "RangeIndex: 735 entries, 0 to 734\n",
      "Data columns (total 3 columns):\n",
      " #   Column    Non-Null Count  Dtype  \n",
      "---  ------    --------------  -----  \n",
      " 0   provinsi  735 non-null    object \n",
      " 1   tahun     735 non-null    int64  \n",
      " 2   ump       711 non-null    float64\n",
      "dtypes: float64(1), int64(1), object(1)\n",
      "memory usage: 17.4+ KB\n"
     ]
    }
   ],
   "source": [
    "df_ump.info()"
   ]
  },
  {
   "cell_type": "markdown",
   "metadata": {},
   "source": [
    "### Missing Value\n",
    "- Dataset UMP"
   ]
  },
  {
   "cell_type": "code",
   "execution_count": 16,
   "metadata": {},
   "outputs": [
    {
     "data": {
      "text/plain": [
       "provinsi     0\n",
       "tahun        0\n",
       "ump         24\n",
       "dtype: int64"
      ]
     },
     "execution_count": 16,
     "metadata": {},
     "output_type": "execute_result"
    }
   ],
   "source": [
    "df_ump.isna().sum()"
   ]
  },
  {
   "cell_type": "markdown",
   "metadata": {},
   "source": [
    "### Duplicated"
   ]
  },
  {
   "cell_type": "code",
   "execution_count": 17,
   "metadata": {},
   "outputs": [
    {
     "name": "stdout",
     "output_type": "stream",
     "text": [
      "Jumlah Duplikasi :  0\n"
     ]
    },
    {
     "data": {
      "text/html": [
       "<style type=\"text/css\">\n",
       "#T_5ccb7_row0_col0 {\n",
       "  background-color: #faa3b6;\n",
       "  color: #000000;\n",
       "}\n",
       "#T_5ccb7_row0_col1, #T_5ccb7_row2_col0 {\n",
       "  background-color: #fff7f3;\n",
       "  color: #000000;\n",
       "}\n",
       "#T_5ccb7_row1_col0, #T_5ccb7_row4_col0, #T_5ccb7_row5_col0 {\n",
       "  background-color: #4b006a;\n",
       "  color: #f1f1f1;\n",
       "}\n",
       "#T_5ccb7_row1_col1 {\n",
       "  background-color: #fbb5bb;\n",
       "  color: #000000;\n",
       "}\n",
       "#T_5ccb7_row2_col1 {\n",
       "  background-color: #fcd2ce;\n",
       "  color: #000000;\n",
       "}\n",
       "#T_5ccb7_row3_col0 {\n",
       "  background-color: #4c006b;\n",
       "  color: #f1f1f1;\n",
       "}\n",
       "#T_5ccb7_row3_col1 {\n",
       "  background-color: #feeeea;\n",
       "  color: #000000;\n",
       "}\n",
       "#T_5ccb7_row4_col1 {\n",
       "  background-color: #fdddd9;\n",
       "  color: #000000;\n",
       "}\n",
       "#T_5ccb7_row5_col1 {\n",
       "  background-color: #fcc6c2;\n",
       "  color: #000000;\n",
       "}\n",
       "#T_5ccb7_row6_col0, #T_5ccb7_row7_col0, #T_5ccb7_row7_col1 {\n",
       "  background-color: #49006a;\n",
       "  color: #f1f1f1;\n",
       "}\n",
       "#T_5ccb7_row6_col1 {\n",
       "  background-color: #f87fa9;\n",
       "  color: #f1f1f1;\n",
       "}\n",
       "</style>\n",
       "<table id=\"T_5ccb7\">\n",
       "  <thead>\n",
       "    <tr>\n",
       "      <th class=\"blank level0\" >&nbsp;</th>\n",
       "      <th id=\"T_5ccb7_level0_col0\" class=\"col_heading level0 col0\" >tahun</th>\n",
       "      <th id=\"T_5ccb7_level0_col1\" class=\"col_heading level0 col1\" >ump</th>\n",
       "    </tr>\n",
       "  </thead>\n",
       "  <tbody>\n",
       "    <tr>\n",
       "      <th id=\"T_5ccb7_level0_row0\" class=\"row_heading level0 row0\" >count</th>\n",
       "      <td id=\"T_5ccb7_row0_col0\" class=\"data row0 col0\" >735.000000</td>\n",
       "      <td id=\"T_5ccb7_row0_col1\" class=\"data row0 col1\" >711.000000</td>\n",
       "    </tr>\n",
       "    <tr>\n",
       "      <th id=\"T_5ccb7_level0_row1\" class=\"row_heading level0 row1\" >mean</th>\n",
       "      <td id=\"T_5ccb7_row1_col0\" class=\"data row1 col0\" >2012.000000</td>\n",
       "      <td id=\"T_5ccb7_row1_col1\" class=\"data row1 col1\" >1402290.452883</td>\n",
       "    </tr>\n",
       "    <tr>\n",
       "      <th id=\"T_5ccb7_level0_row2\" class=\"row_heading level0 row2\" >std</th>\n",
       "      <td id=\"T_5ccb7_row2_col0\" class=\"data row2 col0\" >6.059424</td>\n",
       "      <td id=\"T_5ccb7_row2_col1\" class=\"data row2 col1\" >876262.234824</td>\n",
       "    </tr>\n",
       "    <tr>\n",
       "      <th id=\"T_5ccb7_level0_row3\" class=\"row_heading level0 row3\" >min</th>\n",
       "      <td id=\"T_5ccb7_row3_col0\" class=\"data row3 col0\" >2002.000000</td>\n",
       "      <td id=\"T_5ccb7_row3_col1\" class=\"data row3 col1\" >245000.000000</td>\n",
       "    </tr>\n",
       "    <tr>\n",
       "      <th id=\"T_5ccb7_level0_row4\" class=\"row_heading level0 row4\" >25%</th>\n",
       "      <td id=\"T_5ccb7_row4_col0\" class=\"data row4 col0\" >2007.000000</td>\n",
       "      <td id=\"T_5ccb7_row4_col1\" class=\"data row4 col1\" >663986.500000</td>\n",
       "    </tr>\n",
       "    <tr>\n",
       "      <th id=\"T_5ccb7_level0_row5\" class=\"row_heading level0 row5\" >50%</th>\n",
       "      <td id=\"T_5ccb7_row5_col0\" class=\"data row5 col0\" >2012.000000</td>\n",
       "      <td id=\"T_5ccb7_row5_col1\" class=\"data row5 col1\" >1125207.000000</td>\n",
       "    </tr>\n",
       "    <tr>\n",
       "      <th id=\"T_5ccb7_level0_row6\" class=\"row_heading level0 row6\" >75%</th>\n",
       "      <td id=\"T_5ccb7_row6_col0\" class=\"data row6 col0\" >2017.000000</td>\n",
       "      <td id=\"T_5ccb7_row6_col1\" class=\"data row6 col1\" >2074002.500000</td>\n",
       "    </tr>\n",
       "    <tr>\n",
       "      <th id=\"T_5ccb7_level0_row7\" class=\"row_heading level0 row7\" >max</th>\n",
       "      <td id=\"T_5ccb7_row7_col0\" class=\"data row7 col0\" >2022.000000</td>\n",
       "      <td id=\"T_5ccb7_row7_col1\" class=\"data row7 col1\" >4641854.000000</td>\n",
       "    </tr>\n",
       "  </tbody>\n",
       "</table>\n"
      ],
      "text/plain": [
       "<pandas.io.formats.style.Styler at 0x230f897a310>"
      ]
     },
     "execution_count": 17,
     "metadata": {},
     "output_type": "execute_result"
    }
   ],
   "source": [
    "print('Jumlah Duplikasi : ', df_ump.duplicated().sum())\n",
    "df_ump.describe().style.background_gradient(cmap='RdPu')"
   ]
  },
  {
   "cell_type": "markdown",
   "metadata": {},
   "source": [
    "## Data Cleaning"
   ]
  },
  {
   "cell_type": "markdown",
   "metadata": {},
   "source": [
    "### metode imputation"
   ]
  },
  {
   "cell_type": "code",
   "execution_count": 18,
   "metadata": {},
   "outputs": [
    {
     "data": {
      "text/html": [
       "<div>\n",
       "<style scoped>\n",
       "    .dataframe tbody tr th:only-of-type {\n",
       "        vertical-align: middle;\n",
       "    }\n",
       "\n",
       "    .dataframe tbody tr th {\n",
       "        vertical-align: top;\n",
       "    }\n",
       "\n",
       "    .dataframe thead th {\n",
       "        text-align: right;\n",
       "    }\n",
       "</style>\n",
       "<table border=\"1\" class=\"dataframe\">\n",
       "  <thead>\n",
       "    <tr style=\"text-align: right;\">\n",
       "      <th></th>\n",
       "      <th>provinsi</th>\n",
       "      <th>jenis</th>\n",
       "      <th>daerah</th>\n",
       "      <th>tahun</th>\n",
       "      <th>periode</th>\n",
       "      <th>gk</th>\n",
       "    </tr>\n",
       "  </thead>\n",
       "  <tbody>\n",
       "    <tr>\n",
       "      <th>104</th>\n",
       "      <td>ACEH</td>\n",
       "      <td>TOTAL</td>\n",
       "      <td>PERDESAANPERKOTAAN</td>\n",
       "      <td>2013</td>\n",
       "      <td>MARET</td>\n",
       "      <td>NaN</td>\n",
       "    </tr>\n",
       "    <tr>\n",
       "      <th>105</th>\n",
       "      <td>ACEH</td>\n",
       "      <td>TOTAL</td>\n",
       "      <td>PERDESAANPERKOTAAN</td>\n",
       "      <td>2013</td>\n",
       "      <td>SEPTEMBER</td>\n",
       "      <td>NaN</td>\n",
       "    </tr>\n",
       "    <tr>\n",
       "      <th>106</th>\n",
       "      <td>ACEH</td>\n",
       "      <td>TOTAL</td>\n",
       "      <td>PERDESAANPERKOTAAN</td>\n",
       "      <td>2014</td>\n",
       "      <td>MARET</td>\n",
       "      <td>NaN</td>\n",
       "    </tr>\n",
       "    <tr>\n",
       "      <th>107</th>\n",
       "      <td>ACEH</td>\n",
       "      <td>TOTAL</td>\n",
       "      <td>PERDESAANPERKOTAAN</td>\n",
       "      <td>2014</td>\n",
       "      <td>SEPTEMBER</td>\n",
       "      <td>NaN</td>\n",
       "    </tr>\n",
       "    <tr>\n",
       "      <th>260</th>\n",
       "      <td>SUMATERA UTARA</td>\n",
       "      <td>TOTAL</td>\n",
       "      <td>PERDESAANPERKOTAAN</td>\n",
       "      <td>2013</td>\n",
       "      <td>MARET</td>\n",
       "      <td>NaN</td>\n",
       "    </tr>\n",
       "    <tr>\n",
       "      <th>...</th>\n",
       "      <td>...</td>\n",
       "      <td>...</td>\n",
       "      <td>...</td>\n",
       "      <td>...</td>\n",
       "      <td>...</td>\n",
       "      <td>...</td>\n",
       "    </tr>\n",
       "    <tr>\n",
       "      <th>5255</th>\n",
       "      <td>PAPUA</td>\n",
       "      <td>TOTAL</td>\n",
       "      <td>PERDESAANPERKOTAAN</td>\n",
       "      <td>2014</td>\n",
       "      <td>SEPTEMBER</td>\n",
       "      <td>NaN</td>\n",
       "    </tr>\n",
       "    <tr>\n",
       "      <th>5408</th>\n",
       "      <td>INDONESIA</td>\n",
       "      <td>TOTAL</td>\n",
       "      <td>PERDESAANPERKOTAAN</td>\n",
       "      <td>2013</td>\n",
       "      <td>MARET</td>\n",
       "      <td>NaN</td>\n",
       "    </tr>\n",
       "    <tr>\n",
       "      <th>5409</th>\n",
       "      <td>INDONESIA</td>\n",
       "      <td>TOTAL</td>\n",
       "      <td>PERDESAANPERKOTAAN</td>\n",
       "      <td>2013</td>\n",
       "      <td>SEPTEMBER</td>\n",
       "      <td>NaN</td>\n",
       "    </tr>\n",
       "    <tr>\n",
       "      <th>5410</th>\n",
       "      <td>INDONESIA</td>\n",
       "      <td>TOTAL</td>\n",
       "      <td>PERDESAANPERKOTAAN</td>\n",
       "      <td>2014</td>\n",
       "      <td>MARET</td>\n",
       "      <td>NaN</td>\n",
       "    </tr>\n",
       "    <tr>\n",
       "      <th>5411</th>\n",
       "      <td>INDONESIA</td>\n",
       "      <td>TOTAL</td>\n",
       "      <td>PERDESAANPERKOTAAN</td>\n",
       "      <td>2014</td>\n",
       "      <td>SEPTEMBER</td>\n",
       "      <td>NaN</td>\n",
       "    </tr>\n",
       "  </tbody>\n",
       "</table>\n",
       "<p>199 rows × 6 columns</p>\n",
       "</div>"
      ],
      "text/plain": [
       "            provinsi  jenis              daerah  tahun    periode  gk\n",
       "104             ACEH  TOTAL  PERDESAANPERKOTAAN   2013      MARET NaN\n",
       "105             ACEH  TOTAL  PERDESAANPERKOTAAN   2013  SEPTEMBER NaN\n",
       "106             ACEH  TOTAL  PERDESAANPERKOTAAN   2014      MARET NaN\n",
       "107             ACEH  TOTAL  PERDESAANPERKOTAAN   2014  SEPTEMBER NaN\n",
       "260   SUMATERA UTARA  TOTAL  PERDESAANPERKOTAAN   2013      MARET NaN\n",
       "...              ...    ...                 ...    ...        ...  ..\n",
       "5255           PAPUA  TOTAL  PERDESAANPERKOTAAN   2014  SEPTEMBER NaN\n",
       "5408       INDONESIA  TOTAL  PERDESAANPERKOTAAN   2013      MARET NaN\n",
       "5409       INDONESIA  TOTAL  PERDESAANPERKOTAAN   2013  SEPTEMBER NaN\n",
       "5410       INDONESIA  TOTAL  PERDESAANPERKOTAAN   2014      MARET NaN\n",
       "5411       INDONESIA  TOTAL  PERDESAANPERKOTAAN   2014  SEPTEMBER NaN\n",
       "\n",
       "[199 rows x 6 columns]"
      ]
     },
     "execution_count": 18,
     "metadata": {},
     "output_type": "execute_result"
    }
   ],
   "source": [
    "df_gk[df_gk.gk.isna()]"
   ]
  },
  {
   "cell_type": "code",
   "execution_count": 19,
   "metadata": {},
   "outputs": [
    {
     "data": {
      "text/plain": [
       "gk\n",
       "161688.0    2\n",
       "275361.0    2\n",
       "214245.0    2\n",
       "215491.0    2\n",
       "218306.0    2\n",
       "           ..\n",
       "330526.0    1\n",
       "318487.0    1\n",
       "302894.0    1\n",
       "350614.0    1\n",
       "535547.0    1\n",
       "Name: count, Length: 5191, dtype: int64"
      ]
     },
     "execution_count": 19,
     "metadata": {},
     "output_type": "execute_result"
    }
   ],
   "source": [
    "df_gk.gk.value_counts()"
   ]
  },
  {
   "cell_type": "code",
   "execution_count": 20,
   "metadata": {},
   "outputs": [
    {
     "name": "stdout",
     "output_type": "stream",
     "text": [
      "provinsi    0\n",
      "jenis       0\n",
      "daerah      0\n",
      "tahun       0\n",
      "periode     0\n",
      "gk          0\n",
      "dtype: int64\n"
     ]
    }
   ],
   "source": [
    "df_gk['gk'].fillna(df_gk['gk'].mean(), inplace=True)\n",
    "print(df_gk.isna().sum())"
   ]
  },
  {
   "cell_type": "code",
   "execution_count": 21,
   "metadata": {},
   "outputs": [
    {
     "data": {
      "text/html": [
       "<div>\n",
       "<style scoped>\n",
       "    .dataframe tbody tr th:only-of-type {\n",
       "        vertical-align: middle;\n",
       "    }\n",
       "\n",
       "    .dataframe tbody tr th {\n",
       "        vertical-align: top;\n",
       "    }\n",
       "\n",
       "    .dataframe thead th {\n",
       "        text-align: right;\n",
       "    }\n",
       "</style>\n",
       "<table border=\"1\" class=\"dataframe\">\n",
       "  <thead>\n",
       "    <tr style=\"text-align: right;\">\n",
       "      <th></th>\n",
       "      <th>provinsi</th>\n",
       "      <th>daerah</th>\n",
       "      <th>jenis</th>\n",
       "      <th>tahun</th>\n",
       "      <th>peng</th>\n",
       "    </tr>\n",
       "  </thead>\n",
       "  <tbody>\n",
       "    <tr>\n",
       "      <th>1320</th>\n",
       "      <td>DKI JAKARTA</td>\n",
       "      <td>PERDESAAN</td>\n",
       "      <td>MAKANAN</td>\n",
       "      <td>2007</td>\n",
       "      <td>NaN</td>\n",
       "    </tr>\n",
       "    <tr>\n",
       "      <th>1321</th>\n",
       "      <td>DKI JAKARTA</td>\n",
       "      <td>PERDESAAN</td>\n",
       "      <td>MAKANAN</td>\n",
       "      <td>2008</td>\n",
       "      <td>NaN</td>\n",
       "    </tr>\n",
       "    <tr>\n",
       "      <th>1322</th>\n",
       "      <td>DKI JAKARTA</td>\n",
       "      <td>PERDESAAN</td>\n",
       "      <td>MAKANAN</td>\n",
       "      <td>2009</td>\n",
       "      <td>NaN</td>\n",
       "    </tr>\n",
       "    <tr>\n",
       "      <th>1323</th>\n",
       "      <td>DKI JAKARTA</td>\n",
       "      <td>PERDESAAN</td>\n",
       "      <td>MAKANAN</td>\n",
       "      <td>2010</td>\n",
       "      <td>NaN</td>\n",
       "    </tr>\n",
       "    <tr>\n",
       "      <th>1324</th>\n",
       "      <td>DKI JAKARTA</td>\n",
       "      <td>PERDESAAN</td>\n",
       "      <td>MAKANAN</td>\n",
       "      <td>2011</td>\n",
       "      <td>NaN</td>\n",
       "    </tr>\n",
       "    <tr>\n",
       "      <th>...</th>\n",
       "      <td>...</td>\n",
       "      <td>...</td>\n",
       "      <td>...</td>\n",
       "      <td>...</td>\n",
       "      <td>...</td>\n",
       "    </tr>\n",
       "    <tr>\n",
       "      <th>3147</th>\n",
       "      <td>KALIMANTAN UTARA</td>\n",
       "      <td>PERDESAANPERKOTAAN</td>\n",
       "      <td>NONMAKANAN</td>\n",
       "      <td>2014</td>\n",
       "      <td>NaN</td>\n",
       "    </tr>\n",
       "    <tr>\n",
       "      <th>3156</th>\n",
       "      <td>KALIMANTAN UTARA</td>\n",
       "      <td>PERDESAANPERKOTAAN</td>\n",
       "      <td>TOTAL</td>\n",
       "      <td>2011</td>\n",
       "      <td>NaN</td>\n",
       "    </tr>\n",
       "    <tr>\n",
       "      <th>3157</th>\n",
       "      <td>KALIMANTAN UTARA</td>\n",
       "      <td>PERDESAANPERKOTAAN</td>\n",
       "      <td>TOTAL</td>\n",
       "      <td>2012</td>\n",
       "      <td>NaN</td>\n",
       "    </tr>\n",
       "    <tr>\n",
       "      <th>3158</th>\n",
       "      <td>KALIMANTAN UTARA</td>\n",
       "      <td>PERDESAANPERKOTAAN</td>\n",
       "      <td>TOTAL</td>\n",
       "      <td>2013</td>\n",
       "      <td>NaN</td>\n",
       "    </tr>\n",
       "    <tr>\n",
       "      <th>3159</th>\n",
       "      <td>KALIMANTAN UTARA</td>\n",
       "      <td>PERDESAANPERKOTAAN</td>\n",
       "      <td>TOTAL</td>\n",
       "      <td>2014</td>\n",
       "      <td>NaN</td>\n",
       "    </tr>\n",
       "  </tbody>\n",
       "</table>\n",
       "<p>108 rows × 5 columns</p>\n",
       "</div>"
      ],
      "text/plain": [
       "              provinsi              daerah       jenis  tahun  peng\n",
       "1320       DKI JAKARTA           PERDESAAN     MAKANAN   2007   NaN\n",
       "1321       DKI JAKARTA           PERDESAAN     MAKANAN   2008   NaN\n",
       "1322       DKI JAKARTA           PERDESAAN     MAKANAN   2009   NaN\n",
       "1323       DKI JAKARTA           PERDESAAN     MAKANAN   2010   NaN\n",
       "1324       DKI JAKARTA           PERDESAAN     MAKANAN   2011   NaN\n",
       "...                ...                 ...         ...    ...   ...\n",
       "3147  KALIMANTAN UTARA  PERDESAANPERKOTAAN  NONMAKANAN   2014   NaN\n",
       "3156  KALIMANTAN UTARA  PERDESAANPERKOTAAN       TOTAL   2011   NaN\n",
       "3157  KALIMANTAN UTARA  PERDESAANPERKOTAAN       TOTAL   2012   NaN\n",
       "3158  KALIMANTAN UTARA  PERDESAANPERKOTAAN       TOTAL   2013   NaN\n",
       "3159  KALIMANTAN UTARA  PERDESAANPERKOTAAN       TOTAL   2014   NaN\n",
       "\n",
       "[108 rows x 5 columns]"
      ]
     },
     "execution_count": 21,
     "metadata": {},
     "output_type": "execute_result"
    }
   ],
   "source": [
    "df_peng[df_peng.peng.isna()]"
   ]
  },
  {
   "cell_type": "code",
   "execution_count": 22,
   "metadata": {},
   "outputs": [
    {
     "data": {
      "text/plain": [
       "peng\n",
       "1708275.0    2\n",
       "1085089.0    2\n",
       "884071.0     2\n",
       "898019.0     2\n",
       "953320.0     2\n",
       "            ..\n",
       "144292.0     1\n",
       "180606.0     1\n",
       "181006.0     1\n",
       "201336.0     1\n",
       "1327782.0    1\n",
       "Name: count, Length: 4470, dtype: int64"
      ]
     },
     "execution_count": 22,
     "metadata": {},
     "output_type": "execute_result"
    }
   ],
   "source": [
    "df_peng.peng.value_counts()"
   ]
  },
  {
   "cell_type": "code",
   "execution_count": 23,
   "metadata": {},
   "outputs": [
    {
     "name": "stdout",
     "output_type": "stream",
     "text": [
      "provinsi    0\n",
      "daerah      0\n",
      "jenis       0\n",
      "tahun       0\n",
      "peng        0\n",
      "dtype: int64\n"
     ]
    }
   ],
   "source": [
    "mean_value_peng = df_peng['peng'].mean()\n",
    "df_peng['peng'].fillna(mean_value_peng, inplace=True)\n",
    "print(df_peng.isna().sum())"
   ]
  },
  {
   "cell_type": "markdown",
   "metadata": {},
   "source": [
    "### Not Missing Values"
   ]
  },
  {
   "cell_type": "code",
   "execution_count": 24,
   "metadata": {},
   "outputs": [
    {
     "name": "stdout",
     "output_type": "stream",
     "text": [
      "provinsi    0\n",
      "tahun       0\n",
      "upah        0\n",
      "dtype: int64\n"
     ]
    }
   ],
   "source": [
    "print(df_upah.isna().sum())"
   ]
  },
  {
   "cell_type": "code",
   "execution_count": 25,
   "metadata": {},
   "outputs": [
    {
     "data": {
      "text/html": [
       "<div>\n",
       "<style scoped>\n",
       "    .dataframe tbody tr th:only-of-type {\n",
       "        vertical-align: middle;\n",
       "    }\n",
       "\n",
       "    .dataframe tbody tr th {\n",
       "        vertical-align: top;\n",
       "    }\n",
       "\n",
       "    .dataframe thead th {\n",
       "        text-align: right;\n",
       "    }\n",
       "</style>\n",
       "<table border=\"1\" class=\"dataframe\">\n",
       "  <thead>\n",
       "    <tr style=\"text-align: right;\">\n",
       "      <th></th>\n",
       "      <th>provinsi</th>\n",
       "      <th>tahun</th>\n",
       "      <th>ump</th>\n",
       "    </tr>\n",
       "  </thead>\n",
       "  <tbody>\n",
       "    <tr>\n",
       "      <th>189</th>\n",
       "      <td>KEP. RIAU</td>\n",
       "      <td>2002</td>\n",
       "      <td>NaN</td>\n",
       "    </tr>\n",
       "    <tr>\n",
       "      <th>190</th>\n",
       "      <td>KEP. RIAU</td>\n",
       "      <td>2003</td>\n",
       "      <td>NaN</td>\n",
       "    </tr>\n",
       "    <tr>\n",
       "      <th>191</th>\n",
       "      <td>KEP. RIAU</td>\n",
       "      <td>2004</td>\n",
       "      <td>NaN</td>\n",
       "    </tr>\n",
       "    <tr>\n",
       "      <th>483</th>\n",
       "      <td>KALIMANTAN UTARA</td>\n",
       "      <td>2002</td>\n",
       "      <td>NaN</td>\n",
       "    </tr>\n",
       "    <tr>\n",
       "      <th>484</th>\n",
       "      <td>KALIMANTAN UTARA</td>\n",
       "      <td>2003</td>\n",
       "      <td>NaN</td>\n",
       "    </tr>\n",
       "    <tr>\n",
       "      <th>485</th>\n",
       "      <td>KALIMANTAN UTARA</td>\n",
       "      <td>2004</td>\n",
       "      <td>NaN</td>\n",
       "    </tr>\n",
       "    <tr>\n",
       "      <th>486</th>\n",
       "      <td>KALIMANTAN UTARA</td>\n",
       "      <td>2005</td>\n",
       "      <td>NaN</td>\n",
       "    </tr>\n",
       "    <tr>\n",
       "      <th>487</th>\n",
       "      <td>KALIMANTAN UTARA</td>\n",
       "      <td>2006</td>\n",
       "      <td>NaN</td>\n",
       "    </tr>\n",
       "    <tr>\n",
       "      <th>488</th>\n",
       "      <td>KALIMANTAN UTARA</td>\n",
       "      <td>2007</td>\n",
       "      <td>NaN</td>\n",
       "    </tr>\n",
       "    <tr>\n",
       "      <th>489</th>\n",
       "      <td>KALIMANTAN UTARA</td>\n",
       "      <td>2008</td>\n",
       "      <td>NaN</td>\n",
       "    </tr>\n",
       "    <tr>\n",
       "      <th>490</th>\n",
       "      <td>KALIMANTAN UTARA</td>\n",
       "      <td>2009</td>\n",
       "      <td>NaN</td>\n",
       "    </tr>\n",
       "    <tr>\n",
       "      <th>491</th>\n",
       "      <td>KALIMANTAN UTARA</td>\n",
       "      <td>2010</td>\n",
       "      <td>NaN</td>\n",
       "    </tr>\n",
       "    <tr>\n",
       "      <th>492</th>\n",
       "      <td>KALIMANTAN UTARA</td>\n",
       "      <td>2011</td>\n",
       "      <td>NaN</td>\n",
       "    </tr>\n",
       "    <tr>\n",
       "      <th>493</th>\n",
       "      <td>KALIMANTAN UTARA</td>\n",
       "      <td>2012</td>\n",
       "      <td>NaN</td>\n",
       "    </tr>\n",
       "    <tr>\n",
       "      <th>494</th>\n",
       "      <td>KALIMANTAN UTARA</td>\n",
       "      <td>2013</td>\n",
       "      <td>NaN</td>\n",
       "    </tr>\n",
       "    <tr>\n",
       "      <th>495</th>\n",
       "      <td>KALIMANTAN UTARA</td>\n",
       "      <td>2014</td>\n",
       "      <td>NaN</td>\n",
       "    </tr>\n",
       "    <tr>\n",
       "      <th>609</th>\n",
       "      <td>SULAWESI BARAT</td>\n",
       "      <td>2002</td>\n",
       "      <td>NaN</td>\n",
       "    </tr>\n",
       "    <tr>\n",
       "      <th>610</th>\n",
       "      <td>SULAWESI BARAT</td>\n",
       "      <td>2003</td>\n",
       "      <td>NaN</td>\n",
       "    </tr>\n",
       "    <tr>\n",
       "      <th>611</th>\n",
       "      <td>SULAWESI BARAT</td>\n",
       "      <td>2004</td>\n",
       "      <td>NaN</td>\n",
       "    </tr>\n",
       "    <tr>\n",
       "      <th>612</th>\n",
       "      <td>SULAWESI BARAT</td>\n",
       "      <td>2005</td>\n",
       "      <td>NaN</td>\n",
       "    </tr>\n",
       "    <tr>\n",
       "      <th>672</th>\n",
       "      <td>PAPUA BARAT</td>\n",
       "      <td>2002</td>\n",
       "      <td>NaN</td>\n",
       "    </tr>\n",
       "    <tr>\n",
       "      <th>673</th>\n",
       "      <td>PAPUA BARAT</td>\n",
       "      <td>2003</td>\n",
       "      <td>NaN</td>\n",
       "    </tr>\n",
       "    <tr>\n",
       "      <th>674</th>\n",
       "      <td>PAPUA BARAT</td>\n",
       "      <td>2004</td>\n",
       "      <td>NaN</td>\n",
       "    </tr>\n",
       "    <tr>\n",
       "      <th>675</th>\n",
       "      <td>PAPUA BARAT</td>\n",
       "      <td>2005</td>\n",
       "      <td>NaN</td>\n",
       "    </tr>\n",
       "  </tbody>\n",
       "</table>\n",
       "</div>"
      ],
      "text/plain": [
       "             provinsi  tahun  ump\n",
       "189         KEP. RIAU   2002  NaN\n",
       "190         KEP. RIAU   2003  NaN\n",
       "191         KEP. RIAU   2004  NaN\n",
       "483  KALIMANTAN UTARA   2002  NaN\n",
       "484  KALIMANTAN UTARA   2003  NaN\n",
       "485  KALIMANTAN UTARA   2004  NaN\n",
       "486  KALIMANTAN UTARA   2005  NaN\n",
       "487  KALIMANTAN UTARA   2006  NaN\n",
       "488  KALIMANTAN UTARA   2007  NaN\n",
       "489  KALIMANTAN UTARA   2008  NaN\n",
       "490  KALIMANTAN UTARA   2009  NaN\n",
       "491  KALIMANTAN UTARA   2010  NaN\n",
       "492  KALIMANTAN UTARA   2011  NaN\n",
       "493  KALIMANTAN UTARA   2012  NaN\n",
       "494  KALIMANTAN UTARA   2013  NaN\n",
       "495  KALIMANTAN UTARA   2014  NaN\n",
       "609    SULAWESI BARAT   2002  NaN\n",
       "610    SULAWESI BARAT   2003  NaN\n",
       "611    SULAWESI BARAT   2004  NaN\n",
       "612    SULAWESI BARAT   2005  NaN\n",
       "672       PAPUA BARAT   2002  NaN\n",
       "673       PAPUA BARAT   2003  NaN\n",
       "674       PAPUA BARAT   2004  NaN\n",
       "675       PAPUA BARAT   2005  NaN"
      ]
     },
     "execution_count": 25,
     "metadata": {},
     "output_type": "execute_result"
    }
   ],
   "source": [
    "df_ump[df_ump.ump.isna()]"
   ]
  },
  {
   "cell_type": "code",
   "execution_count": 26,
   "metadata": {},
   "outputs": [
    {
     "data": {
      "text/plain": [
       "ump\n",
       "1000000.0    10\n",
       "600000.0      6\n",
       "500000.0      5\n",
       "425000.0      5\n",
       "700000.0      5\n",
       "             ..\n",
       "1812935.0     1\n",
       "1742015.0     1\n",
       "1605396.0     1\n",
       "1486065.0     1\n",
       "2729463.0     1\n",
       "Name: count, Length: 562, dtype: int64"
      ]
     },
     "execution_count": 26,
     "metadata": {},
     "output_type": "execute_result"
    }
   ],
   "source": [
    "df_ump.ump.value_counts()"
   ]
  },
  {
   "cell_type": "code",
   "execution_count": 27,
   "metadata": {},
   "outputs": [
    {
     "name": "stdout",
     "output_type": "stream",
     "text": [
      "provinsi    0\n",
      "tahun       0\n",
      "ump         0\n",
      "dtype: int64\n"
     ]
    }
   ],
   "source": [
    "mean_value_ump = df_ump['ump'].mean()\n",
    "df_ump['ump'].fillna(mean_value_ump, inplace=True)\n",
    "print(df_ump.isna().sum())"
   ]
  },
  {
   "cell_type": "code",
   "execution_count": 28,
   "metadata": {},
   "outputs": [
    {
     "data": {
      "text/html": [
       "<style type=\"text/css\">\n",
       "#T_142a2_row0_col0, #T_142a2_row7_col1 {\n",
       "  background-color: #49006a;\n",
       "  color: #f1f1f1;\n",
       "}\n",
       "#T_142a2_row0_col1, #T_142a2_row2_col0 {\n",
       "  background-color: #fff7f3;\n",
       "  color: #000000;\n",
       "}\n",
       "#T_142a2_row1_col0, #T_142a2_row3_col0, #T_142a2_row4_col0, #T_142a2_row5_col0, #T_142a2_row6_col0, #T_142a2_row7_col0 {\n",
       "  background-color: #faa1b6;\n",
       "  color: #000000;\n",
       "}\n",
       "#T_142a2_row1_col1, #T_142a2_row5_col1 {\n",
       "  background-color: #faa8b8;\n",
       "  color: #000000;\n",
       "}\n",
       "#T_142a2_row2_col1 {\n",
       "  background-color: #fdd6d2;\n",
       "  color: #000000;\n",
       "}\n",
       "#T_142a2_row3_col1 {\n",
       "  background-color: #feeeeb;\n",
       "  color: #000000;\n",
       "}\n",
       "#T_142a2_row4_col1 {\n",
       "  background-color: #fdd7d4;\n",
       "  color: #000000;\n",
       "}\n",
       "#T_142a2_row6_col1 {\n",
       "  background-color: #f878a7;\n",
       "  color: #f1f1f1;\n",
       "}\n",
       "</style>\n",
       "<table id=\"T_142a2\">\n",
       "  <thead>\n",
       "    <tr>\n",
       "      <th class=\"blank level0\" >&nbsp;</th>\n",
       "      <th id=\"T_142a2_level0_col0\" class=\"col_heading level0 col0\" >tahun</th>\n",
       "      <th id=\"T_142a2_level0_col1\" class=\"col_heading level0 col1\" >gk</th>\n",
       "    </tr>\n",
       "  </thead>\n",
       "  <tbody>\n",
       "    <tr>\n",
       "      <th id=\"T_142a2_level0_row0\" class=\"row_heading level0 row0\" >count</th>\n",
       "      <td id=\"T_142a2_row0_col0\" class=\"data row0 col0\" >5460.000000</td>\n",
       "      <td id=\"T_142a2_row0_col1\" class=\"data row0 col1\" >5460.000000</td>\n",
       "    </tr>\n",
       "    <tr>\n",
       "      <th id=\"T_142a2_level0_row1\" class=\"row_heading level0 row1\" >mean</th>\n",
       "      <td id=\"T_142a2_row1_col0\" class=\"data row1 col0\" >2018.115385</td>\n",
       "      <td id=\"T_142a2_row1_col1\" class=\"data row1 col1\" >303904.185516</td>\n",
       "    </tr>\n",
       "    <tr>\n",
       "      <th id=\"T_142a2_level0_row2\" class=\"row_heading level0 row2\" >std</th>\n",
       "      <td id=\"T_142a2_row2_col0\" class=\"data row2 col0\" >2.577159</td>\n",
       "      <td id=\"T_142a2_row2_col1\" class=\"data row2 col1\" >155266.220703</td>\n",
       "    </tr>\n",
       "    <tr>\n",
       "      <th id=\"T_142a2_level0_row3\" class=\"row_heading level0 row3\" >min</th>\n",
       "      <td id=\"T_142a2_row3_col0\" class=\"data row3 col0\" >2013.000000</td>\n",
       "      <td id=\"T_142a2_row3_col1\" class=\"data row3 col1\" >48561.000000</td>\n",
       "    </tr>\n",
       "    <tr>\n",
       "      <th id=\"T_142a2_level0_row4\" class=\"row_heading level0 row4\" >25%</th>\n",
       "      <td id=\"T_142a2_row4_col0\" class=\"data row4 col0\" >2016.000000</td>\n",
       "      <td id=\"T_142a2_row4_col1\" class=\"data row4 col1\" >149278.000000</td>\n",
       "    </tr>\n",
       "    <tr>\n",
       "      <th id=\"T_142a2_level0_row5\" class=\"row_heading level0 row5\" >50%</th>\n",
       "      <td id=\"T_142a2_row5_col0\" class=\"data row5 col0\" >2018.000000</td>\n",
       "      <td id=\"T_142a2_row5_col1\" class=\"data row5 col1\" >305580.000000</td>\n",
       "    </tr>\n",
       "    <tr>\n",
       "      <th id=\"T_142a2_level0_row6\" class=\"row_heading level0 row6\" >75%</th>\n",
       "      <td id=\"T_142a2_row6_col0\" class=\"data row6 col0\" >2020.000000</td>\n",
       "      <td id=\"T_142a2_row6_col1\" class=\"data row6 col1\" >405551.250000</td>\n",
       "    </tr>\n",
       "    <tr>\n",
       "      <th id=\"T_142a2_level0_row7\" class=\"row_heading level0 row7\" >max</th>\n",
       "      <td id=\"T_142a2_row7_col0\" class=\"data row7 col0\" >2022.000000</td>\n",
       "      <td id=\"T_142a2_row7_col1\" class=\"data row7 col1\" >872843.000000</td>\n",
       "    </tr>\n",
       "  </tbody>\n",
       "</table>\n"
      ],
      "text/plain": [
       "<pandas.io.formats.style.Styler at 0x230f8615f10>"
      ]
     },
     "execution_count": 28,
     "metadata": {},
     "output_type": "execute_result"
    }
   ],
   "source": [
    "df_gk.describe().style.background_gradient(cmap='RdPu')"
   ]
  },
  {
   "cell_type": "code",
   "execution_count": 29,
   "metadata": {},
   "outputs": [
    {
     "data": {
      "text/html": [
       "<style type=\"text/css\">\n",
       "#T_5734b_row0_col0, #T_5734b_row7_col1 {\n",
       "  background-color: #49006a;\n",
       "  color: #f1f1f1;\n",
       "}\n",
       "#T_5734b_row0_col1, #T_5734b_row2_col0 {\n",
       "  background-color: #fff7f3;\n",
       "  color: #000000;\n",
       "}\n",
       "#T_5734b_row1_col0, #T_5734b_row3_col0, #T_5734b_row4_col0, #T_5734b_row5_col0, #T_5734b_row6_col0, #T_5734b_row7_col0 {\n",
       "  background-color: #f984ab;\n",
       "  color: #f1f1f1;\n",
       "}\n",
       "#T_5734b_row1_col1 {\n",
       "  background-color: #fcc8c3;\n",
       "  color: #000000;\n",
       "}\n",
       "#T_5734b_row2_col1 {\n",
       "  background-color: #fddedb;\n",
       "  color: #000000;\n",
       "}\n",
       "#T_5734b_row3_col1 {\n",
       "  background-color: #fff3f0;\n",
       "  color: #000000;\n",
       "}\n",
       "#T_5734b_row4_col1 {\n",
       "  background-color: #fdddda;\n",
       "  color: #000000;\n",
       "}\n",
       "#T_5734b_row5_col1 {\n",
       "  background-color: #fcceca;\n",
       "  color: #000000;\n",
       "}\n",
       "#T_5734b_row6_col1 {\n",
       "  background-color: #fbb8bc;\n",
       "  color: #000000;\n",
       "}\n",
       "</style>\n",
       "<table id=\"T_5734b\">\n",
       "  <thead>\n",
       "    <tr>\n",
       "      <th class=\"blank level0\" >&nbsp;</th>\n",
       "      <th id=\"T_5734b_level0_col0\" class=\"col_heading level0 col0\" >tahun</th>\n",
       "      <th id=\"T_5734b_level0_col1\" class=\"col_heading level0 col1\" >peng</th>\n",
       "    </tr>\n",
       "  </thead>\n",
       "  <tbody>\n",
       "    <tr>\n",
       "      <th id=\"T_5734b_level0_row0\" class=\"row_heading level0 row0\" >count</th>\n",
       "      <td id=\"T_5734b_row0_col0\" class=\"data row0 col0\" >4620.000000</td>\n",
       "      <td id=\"T_5734b_row0_col1\" class=\"data row0 col1\" >4620.000000</td>\n",
       "    </tr>\n",
       "    <tr>\n",
       "      <th id=\"T_5734b_level0_row1\" class=\"row_heading level0 row1\" >mean</th>\n",
       "      <td id=\"T_5734b_row1_col0\" class=\"data row1 col0\" >2015.045455</td>\n",
       "      <td id=\"T_5734b_row1_col1\" class=\"data row1 col1\" >601201.168661</td>\n",
       "    </tr>\n",
       "    <tr>\n",
       "      <th id=\"T_5734b_level0_row2\" class=\"row_heading level0 row2\" >std</th>\n",
       "      <td id=\"T_5734b_row2_col0\" class=\"data row2 col0\" >4.416124</td>\n",
       "      <td id=\"T_5734b_row2_col1\" class=\"data row2 col1\" >348260.910836</td>\n",
       "    </tr>\n",
       "    <tr>\n",
       "      <th id=\"T_5734b_level0_row3\" class=\"row_heading level0 row3\" >min</th>\n",
       "      <td id=\"T_5734b_row3_col0\" class=\"data row3 col0\" >2007.000000</td>\n",
       "      <td id=\"T_5734b_row3_col1\" class=\"data row3 col1\" >59216.000000</td>\n",
       "    </tr>\n",
       "    <tr>\n",
       "      <th id=\"T_5734b_level0_row4\" class=\"row_heading level0 row4\" >25%</th>\n",
       "      <td id=\"T_5734b_row4_col0\" class=\"data row4 col0\" >2011.750000</td>\n",
       "      <td id=\"T_5734b_row4_col1\" class=\"data row4 col1\" >352898.500000</td>\n",
       "    </tr>\n",
       "    <tr>\n",
       "      <th id=\"T_5734b_level0_row5\" class=\"row_heading level0 row5\" >50%</th>\n",
       "      <td id=\"T_5734b_row5_col0\" class=\"data row5 col0\" >2015.000000</td>\n",
       "      <td id=\"T_5734b_row5_col1\" class=\"data row5 col1\" >530730.500000</td>\n",
       "    </tr>\n",
       "    <tr>\n",
       "      <th id=\"T_5734b_level0_row6\" class=\"row_heading level0 row6\" >75%</th>\n",
       "      <td id=\"T_5734b_row6_col0\" class=\"data row6 col0\" >2019.000000</td>\n",
       "      <td id=\"T_5734b_row6_col1\" class=\"data row6 col1\" >752737.250000</td>\n",
       "    </tr>\n",
       "    <tr>\n",
       "      <th id=\"T_5734b_level0_row7\" class=\"row_heading level0 row7\" >max</th>\n",
       "      <td id=\"T_5734b_row7_col0\" class=\"data row7 col0\" >2022.000000</td>\n",
       "      <td id=\"T_5734b_row7_col1\" class=\"data row7 col1\" >2525347.000000</td>\n",
       "    </tr>\n",
       "  </tbody>\n",
       "</table>\n"
      ],
      "text/plain": [
       "<pandas.io.formats.style.Styler at 0x230f89b3050>"
      ]
     },
     "execution_count": 29,
     "metadata": {},
     "output_type": "execute_result"
    }
   ],
   "source": [
    "df_peng.describe().style.background_gradient(cmap='RdPu')"
   ]
  },
  {
   "cell_type": "code",
   "execution_count": 30,
   "metadata": {},
   "outputs": [
    {
     "data": {
      "text/html": [
       "<style type=\"text/css\">\n",
       "#T_31616_row0_col0 {\n",
       "  background-color: #fdddda;\n",
       "  color: #000000;\n",
       "}\n",
       "#T_31616_row0_col1, #T_31616_row2_col0 {\n",
       "  background-color: #fff7f3;\n",
       "  color: #000000;\n",
       "}\n",
       "#T_31616_row1_col0, #T_31616_row3_col0, #T_31616_row4_col0, #T_31616_row5_col0, #T_31616_row6_col0, #T_31616_row7_col0, #T_31616_row7_col1 {\n",
       "  background-color: #49006a;\n",
       "  color: #f1f1f1;\n",
       "}\n",
       "#T_31616_row1_col1 {\n",
       "  background-color: #f666a1;\n",
       "  color: #f1f1f1;\n",
       "}\n",
       "#T_31616_row2_col1 {\n",
       "  background-color: #fde0dd;\n",
       "  color: #000000;\n",
       "}\n",
       "#T_31616_row3_col1 {\n",
       "  background-color: #fcc4c0;\n",
       "  color: #000000;\n",
       "}\n",
       "#T_31616_row4_col1 {\n",
       "  background-color: #f991b0;\n",
       "  color: #000000;\n",
       "}\n",
       "#T_31616_row5_col1 {\n",
       "  background-color: #f871a4;\n",
       "  color: #f1f1f1;\n",
       "}\n",
       "#T_31616_row6_col1 {\n",
       "  background-color: #e94b9c;\n",
       "  color: #f1f1f1;\n",
       "}\n",
       "</style>\n",
       "<table id=\"T_31616\">\n",
       "  <thead>\n",
       "    <tr>\n",
       "      <th class=\"blank level0\" >&nbsp;</th>\n",
       "      <th id=\"T_31616_level0_col0\" class=\"col_heading level0 col0\" >tahun</th>\n",
       "      <th id=\"T_31616_level0_col1\" class=\"col_heading level0 col1\" >upah</th>\n",
       "    </tr>\n",
       "  </thead>\n",
       "  <tbody>\n",
       "    <tr>\n",
       "      <th id=\"T_31616_level0_row0\" class=\"row_heading level0 row0\" >count</th>\n",
       "      <td id=\"T_31616_row0_col0\" class=\"data row0 col0\" >280.000000</td>\n",
       "      <td id=\"T_31616_row0_col1\" class=\"data row0 col1\" >280.000000</td>\n",
       "    </tr>\n",
       "    <tr>\n",
       "      <th id=\"T_31616_level0_row1\" class=\"row_heading level0 row1\" >mean</th>\n",
       "      <td id=\"T_31616_row1_col0\" class=\"data row1 col0\" >2018.500000</td>\n",
       "      <td id=\"T_31616_row1_col1\" class=\"data row1 col1\" >16621.010714</td>\n",
       "    </tr>\n",
       "    <tr>\n",
       "      <th id=\"T_31616_level0_row2\" class=\"row_heading level0 row2\" >std</th>\n",
       "      <td id=\"T_31616_row2_col0\" class=\"data row2 col0\" >2.295390</td>\n",
       "      <td id=\"T_31616_row2_col1\" class=\"data row2 col1\" >4371.803056</td>\n",
       "    </tr>\n",
       "    <tr>\n",
       "      <th id=\"T_31616_level0_row3\" class=\"row_heading level0 row3\" >min</th>\n",
       "      <td id=\"T_31616_row3_col0\" class=\"data row3 col0\" >2015.000000</td>\n",
       "      <td id=\"T_31616_row3_col1\" class=\"data row3 col1\" >8525.000000</td>\n",
       "    </tr>\n",
       "    <tr>\n",
       "      <th id=\"T_31616_level0_row4\" class=\"row_heading level0 row4\" >25%</th>\n",
       "      <td id=\"T_31616_row4_col0\" class=\"data row4 col0\" >2016.750000</td>\n",
       "      <td id=\"T_31616_row4_col1\" class=\"data row4 col1\" >13468.750000</td>\n",
       "    </tr>\n",
       "    <tr>\n",
       "      <th id=\"T_31616_level0_row5\" class=\"row_heading level0 row5\" >50%</th>\n",
       "      <td id=\"T_31616_row5_col0\" class=\"data row5 col0\" >2018.500000</td>\n",
       "      <td id=\"T_31616_row5_col1\" class=\"data row5 col1\" >15845.000000</td>\n",
       "    </tr>\n",
       "    <tr>\n",
       "      <th id=\"T_31616_level0_row6\" class=\"row_heading level0 row6\" >75%</th>\n",
       "      <td id=\"T_31616_row6_col0\" class=\"data row6 col0\" >2020.250000</td>\n",
       "      <td id=\"T_31616_row6_col1\" class=\"data row6 col1\" >18634.750000</td>\n",
       "    </tr>\n",
       "    <tr>\n",
       "      <th id=\"T_31616_level0_row7\" class=\"row_heading level0 row7\" >max</th>\n",
       "      <td id=\"T_31616_row7_col0\" class=\"data row7 col0\" >2022.000000</td>\n",
       "      <td id=\"T_31616_row7_col1\" class=\"data row7 col1\" >32685.000000</td>\n",
       "    </tr>\n",
       "  </tbody>\n",
       "</table>\n"
      ],
      "text/plain": [
       "<pandas.io.formats.style.Styler at 0x230f898e7d0>"
      ]
     },
     "execution_count": 30,
     "metadata": {},
     "output_type": "execute_result"
    }
   ],
   "source": [
    "df_upah.describe().style.background_gradient(cmap='RdPu')"
   ]
  },
  {
   "cell_type": "code",
   "execution_count": 31,
   "metadata": {},
   "outputs": [
    {
     "data": {
      "text/html": [
       "<style type=\"text/css\">\n",
       "#T_794d6_row0_col0 {\n",
       "  background-color: #faa3b6;\n",
       "  color: #000000;\n",
       "}\n",
       "#T_794d6_row0_col1, #T_794d6_row2_col0 {\n",
       "  background-color: #fff7f3;\n",
       "  color: #000000;\n",
       "}\n",
       "#T_794d6_row1_col0, #T_794d6_row4_col0, #T_794d6_row5_col0 {\n",
       "  background-color: #4b006a;\n",
       "  color: #f1f1f1;\n",
       "}\n",
       "#T_794d6_row1_col1 {\n",
       "  background-color: #fbb5bb;\n",
       "  color: #000000;\n",
       "}\n",
       "#T_794d6_row2_col1 {\n",
       "  background-color: #fdd3cf;\n",
       "  color: #000000;\n",
       "}\n",
       "#T_794d6_row3_col0 {\n",
       "  background-color: #4c006b;\n",
       "  color: #f1f1f1;\n",
       "}\n",
       "#T_794d6_row3_col1 {\n",
       "  background-color: #feeeea;\n",
       "  color: #000000;\n",
       "}\n",
       "#T_794d6_row4_col1 {\n",
       "  background-color: #fddcd8;\n",
       "  color: #000000;\n",
       "}\n",
       "#T_794d6_row5_col1 {\n",
       "  background-color: #fcc4c0;\n",
       "  color: #000000;\n",
       "}\n",
       "#T_794d6_row6_col0, #T_794d6_row7_col0, #T_794d6_row7_col1 {\n",
       "  background-color: #49006a;\n",
       "  color: #f1f1f1;\n",
       "}\n",
       "#T_794d6_row6_col1 {\n",
       "  background-color: #f883ab;\n",
       "  color: #f1f1f1;\n",
       "}\n",
       "</style>\n",
       "<table id=\"T_794d6\">\n",
       "  <thead>\n",
       "    <tr>\n",
       "      <th class=\"blank level0\" >&nbsp;</th>\n",
       "      <th id=\"T_794d6_level0_col0\" class=\"col_heading level0 col0\" >tahun</th>\n",
       "      <th id=\"T_794d6_level0_col1\" class=\"col_heading level0 col1\" >ump</th>\n",
       "    </tr>\n",
       "  </thead>\n",
       "  <tbody>\n",
       "    <tr>\n",
       "      <th id=\"T_794d6_level0_row0\" class=\"row_heading level0 row0\" >count</th>\n",
       "      <td id=\"T_794d6_row0_col0\" class=\"data row0 col0\" >735.000000</td>\n",
       "      <td id=\"T_794d6_row0_col1\" class=\"data row0 col1\" >735.000000</td>\n",
       "    </tr>\n",
       "    <tr>\n",
       "      <th id=\"T_794d6_level0_row1\" class=\"row_heading level0 row1\" >mean</th>\n",
       "      <td id=\"T_794d6_row1_col0\" class=\"data row1 col0\" >2012.000000</td>\n",
       "      <td id=\"T_794d6_row1_col1\" class=\"data row1 col1\" >1402290.452883</td>\n",
       "    </tr>\n",
       "    <tr>\n",
       "      <th id=\"T_794d6_level0_row2\" class=\"row_heading level0 row2\" >std</th>\n",
       "      <td id=\"T_794d6_row2_col0\" class=\"data row2 col0\" >6.059424</td>\n",
       "      <td id=\"T_794d6_row2_col1\" class=\"data row2 col1\" >861817.362419</td>\n",
       "    </tr>\n",
       "    <tr>\n",
       "      <th id=\"T_794d6_level0_row3\" class=\"row_heading level0 row3\" >min</th>\n",
       "      <td id=\"T_794d6_row3_col0\" class=\"data row3 col0\" >2002.000000</td>\n",
       "      <td id=\"T_794d6_row3_col1\" class=\"data row3 col1\" >245000.000000</td>\n",
       "    </tr>\n",
       "    <tr>\n",
       "      <th id=\"T_794d6_level0_row4\" class=\"row_heading level0 row4\" >25%</th>\n",
       "      <td id=\"T_794d6_row4_col0\" class=\"data row4 col0\" >2007.000000</td>\n",
       "      <td id=\"T_794d6_row4_col1\" class=\"data row4 col1\" >674100.000000</td>\n",
       "    </tr>\n",
       "    <tr>\n",
       "      <th id=\"T_794d6_level0_row5\" class=\"row_heading level0 row5\" >50%</th>\n",
       "      <td id=\"T_794d6_row5_col0\" class=\"data row5 col0\" >2012.000000</td>\n",
       "      <td id=\"T_794d6_row5_col1\" class=\"data row5 col1\" >1180000.000000</td>\n",
       "    </tr>\n",
       "    <tr>\n",
       "      <th id=\"T_794d6_level0_row6\" class=\"row_heading level0 row6\" >75%</th>\n",
       "      <td id=\"T_794d6_row6_col0\" class=\"data row6 col0\" >2017.000000</td>\n",
       "      <td id=\"T_794d6_row6_col1\" class=\"data row6 col1\" >2035000.000000</td>\n",
       "    </tr>\n",
       "    <tr>\n",
       "      <th id=\"T_794d6_level0_row7\" class=\"row_heading level0 row7\" >max</th>\n",
       "      <td id=\"T_794d6_row7_col0\" class=\"data row7 col0\" >2022.000000</td>\n",
       "      <td id=\"T_794d6_row7_col1\" class=\"data row7 col1\" >4641854.000000</td>\n",
       "    </tr>\n",
       "  </tbody>\n",
       "</table>\n"
      ],
      "text/plain": [
       "<pandas.io.formats.style.Styler at 0x230f8969e90>"
      ]
     },
     "execution_count": 31,
     "metadata": {},
     "output_type": "execute_result"
    }
   ],
   "source": [
    "df_ump.describe().style.background_gradient(cmap='RdPu')"
   ]
  },
  {
   "cell_type": "markdown",
   "metadata": {},
   "source": [
    "# Explanatory Data Analysis"
   ]
  },
  {
   "cell_type": "code",
   "execution_count": 32,
   "metadata": {},
   "outputs": [
    {
     "name": "stdout",
     "output_type": "stream",
     "text": [
      "5 Provinsi upah tertinggi\n",
      "         provinsi  tahun   upah\n",
      "79     KEP. RIAU   2022  23528\n",
      "127       BANTEN   2022  23880\n",
      "271        PAPUA   2022  24097\n",
      "263  PAPUA BARAT   2022  24128\n",
      "87   DKI JAKARTA   2022  32685\n"
     ]
    }
   ],
   "source": [
    "upah_2022  = df_upah[df_upah['tahun'] == 2022].copy()\n",
    "upah_2022_sorted = upah_2022.sort_values(by='upah', ascending=True)\n",
    "\n",
    "upah_5_tertinggi = upah_2022_sorted.tail(5)\n",
    "print('5 Provinsi upah tertinggi\\n',pd.DataFrame(upah_5_tertinggi))"
   ]
  },
  {
   "cell_type": "code",
   "execution_count": 33,
   "metadata": {},
   "outputs": [
    {
     "name": "stdout",
     "output_type": "stream",
     "text": [
      "5 Provinsi upah terendah\n",
      "                 provinsi  tahun   upah\n",
      "143  NUSA TENGGARA BARAT   2022  11734\n",
      "103          JAWA TENGAH   2022  12604\n",
      "151  NUSA TENGGARA TIMUR   2022  13012\n",
      "63               LAMPUNG   2022  13218\n",
      "231            GORONTALO   2022  14289\n"
     ]
    }
   ],
   "source": [
    "upah_5_terendah = upah_2022_sorted.head(5)\n",
    "print('5 Provinsi upah terendah\\n',pd.DataFrame(upah_5_terendah))"
   ]
  },
  {
   "cell_type": "code",
   "execution_count": 34,
   "metadata": {},
   "outputs": [
    {
     "name": "stdout",
     "output_type": "stream",
     "text": [
      "5 Provinsi UMP tertinggi\n",
      "                  provinsi  tahun        ump\n",
      "692           PAPUA BARAT   2022  3200000.0\n",
      "188  KEP. BANGKA BELITUNG   2022  3264884.0\n",
      "524        SULAWESI UTARA   2022  3310723.0\n",
      "713                 PAPUA   2022  3561932.0\n",
      "230           DKI JAKARTA   2022  4641854.0\n"
     ]
    }
   ],
   "source": [
    "ump_2022 = df_ump[df_ump['tahun'] == 2022].copy()\n",
    "ump_2022_sorted = ump_2022.sort_values(by='ump', ascending=True)\n",
    "\n",
    "ump_5_tertinggi = ump_2022_sorted.tail(5)\n",
    "print('5 Provinsi UMP tertinggi\\n', pd.DataFrame(ump_5_tertinggi))"
   ]
  },
  {
   "cell_type": "code",
   "execution_count": 35,
   "metadata": {},
   "outputs": [
    {
     "name": "stdout",
     "output_type": "stream",
     "text": [
      "5 provinsi UMP terendah\n",
      "                 provinsi  tahun        ump\n",
      "272          JAWA TENGAH   2022  1812935.0\n",
      "293        DI YOGYAKARTA   2022  1840916.0\n",
      "251           JAWA BARAT   2022  1841487.0\n",
      "314           JAWA TIMUR   2022  1891567.0\n",
      "398  NUSA TENGGARA TIMUR   2022  1975000.0\n"
     ]
    }
   ],
   "source": [
    "ump_5_terendah = ump_2022_sorted.head(5)\n",
    "print('5 provinsi UMP terendah\\n', pd.DataFrame(ump_5_terendah))"
   ]
  },
  {
   "cell_type": "code",
   "execution_count": 36,
   "metadata": {},
   "outputs": [
    {
     "name": "stdout",
     "output_type": "stream",
     "text": [
      "                 provinsi  tahun        ump\n",
      "168  KEP. BANGKA BELITUNG   2002   345000.0\n",
      "169  KEP. BANGKA BELITUNG   2003   379500.0\n",
      "170  KEP. BANGKA BELITUNG   2004   447900.0\n",
      "171  KEP. BANGKA BELITUNG   2005   560000.0\n",
      "172  KEP. BANGKA BELITUNG   2006   640000.0\n",
      "..                    ...    ...        ...\n",
      "709                 PAPUA   2018  3000000.0\n",
      "710                 PAPUA   2019  3240900.0\n",
      "711                 PAPUA   2020  3516700.0\n",
      "712                 PAPUA   2021  3516700.0\n",
      "713                 PAPUA   2022  3561932.0\n",
      "\n",
      "[210 rows x 3 columns]\n"
     ]
    }
   ],
   "source": [
    "provinsi = ['PAPUA BARAT', 'KEP. BANGKA BELITUNG', 'SULAWESI UTARA', \n",
    "            'PAPUA', 'DKI JAKARTA', 'JAWA TENGAH',\n",
    "            'DI YOGYAKARTA', 'JAWA BARAT', 'JAWA TIMUR',\n",
    "            'NUSA TENGGARA TIMUR']\n",
    "ump_filtered = df_ump[df_ump['provinsi'].isin(provinsi)]\n",
    "print(ump_filtered)"
   ]
  },
  {
   "cell_type": "code",
   "execution_count": 37,
   "metadata": {},
   "outputs": [],
   "source": [
    "# provinsi = ['DKI JAKARTA','PAPUA BARAT','PAPUA','BANTEN','KEP.RIAU',\n",
    "#             'GORONTALO','LAMPUNG','NUSA TENGGARA TIMUR','JAWA TENGAH',\n",
    "#             'NUSA TENGGARA BARAT']\n",
    "# ump_filtered = df_ump[df_ump['provinsi'].isin(provinsi)]\n",
    "# print(ump_filtered)"
   ]
  },
  {
   "cell_type": "code",
   "execution_count": 38,
   "metadata": {},
   "outputs": [
    {
     "data": {
      "text/plain": [
       "-0.0054055876174404225"
      ]
     },
     "execution_count": 38,
     "metadata": {},
     "output_type": "execute_result"
    }
   ],
   "source": [
    "correlation = df_gk['gk'].corr(df_peng['peng'])\n",
    "correlation"
   ]
  },
  {
   "cell_type": "code",
   "execution_count": 39,
   "metadata": {},
   "outputs": [
    {
     "data": {
      "text/plain": [
       "0.1985417900145426"
      ]
     },
     "execution_count": 39,
     "metadata": {},
     "output_type": "execute_result"
    }
   ],
   "source": [
    "correlation = df_upah['upah'].corr(df_peng['peng'])\n",
    "correlation"
   ]
  },
  {
   "cell_type": "code",
   "execution_count": 40,
   "metadata": {},
   "outputs": [
    {
     "name": "stdout",
     "output_type": "stream",
     "text": [
      "      provinsi  tahun   upah\n",
      "272  INDONESIA   2015  11434\n",
      "273  INDONESIA   2016  14068\n",
      "274  INDONESIA   2017  14731\n",
      "275  INDONESIA   2018  15275\n",
      "276  INDONESIA   2019  15823\n",
      "277  INDONESIA   2020  17696\n",
      "278  INDONESIA   2021  18089\n",
      "279  INDONESIA   2022  17542\n"
     ]
    }
   ],
   "source": [
    "upah_provinsi = df_upah[(df_upah['provinsi'] == 'INDONESIA')]\n",
    "\n",
    "print(upah_provinsi)"
   ]
  },
  {
   "cell_type": "code",
   "execution_count": 41,
   "metadata": {},
   "outputs": [
    {
     "data": {
      "text/html": [
       "<div>\n",
       "<style scoped>\n",
       "    .dataframe tbody tr th:only-of-type {\n",
       "        vertical-align: middle;\n",
       "    }\n",
       "\n",
       "    .dataframe tbody tr th {\n",
       "        vertical-align: top;\n",
       "    }\n",
       "\n",
       "    .dataframe thead th {\n",
       "        text-align: right;\n",
       "    }\n",
       "</style>\n",
       "<table border=\"1\" class=\"dataframe\">\n",
       "  <thead>\n",
       "    <tr style=\"text-align: right;\">\n",
       "      <th></th>\n",
       "      <th>provinsi</th>\n",
       "      <th>tahun_x</th>\n",
       "      <th>ump</th>\n",
       "      <th>jenis</th>\n",
       "      <th>daerah</th>\n",
       "      <th>tahun_y</th>\n",
       "      <th>periode</th>\n",
       "      <th>gk</th>\n",
       "    </tr>\n",
       "  </thead>\n",
       "  <tbody>\n",
       "    <tr>\n",
       "      <th>0</th>\n",
       "      <td>ACEH</td>\n",
       "      <td>2002</td>\n",
       "      <td>330000.0</td>\n",
       "      <td>MAKANAN</td>\n",
       "      <td>PERKOTAAN</td>\n",
       "      <td>2015</td>\n",
       "      <td>MARET</td>\n",
       "      <td>293697.0</td>\n",
       "    </tr>\n",
       "    <tr>\n",
       "      <th>1</th>\n",
       "      <td>ACEH</td>\n",
       "      <td>2002</td>\n",
       "      <td>330000.0</td>\n",
       "      <td>MAKANAN</td>\n",
       "      <td>PERKOTAAN</td>\n",
       "      <td>2015</td>\n",
       "      <td>SEPTEMBER</td>\n",
       "      <td>302128.0</td>\n",
       "    </tr>\n",
       "    <tr>\n",
       "      <th>2</th>\n",
       "      <td>ACEH</td>\n",
       "      <td>2002</td>\n",
       "      <td>330000.0</td>\n",
       "      <td>MAKANAN</td>\n",
       "      <td>PERKOTAAN</td>\n",
       "      <td>2016</td>\n",
       "      <td>MARET</td>\n",
       "      <td>306243.0</td>\n",
       "    </tr>\n",
       "    <tr>\n",
       "      <th>3</th>\n",
       "      <td>ACEH</td>\n",
       "      <td>2002</td>\n",
       "      <td>330000.0</td>\n",
       "      <td>MAKANAN</td>\n",
       "      <td>PERKOTAAN</td>\n",
       "      <td>2016</td>\n",
       "      <td>SEPTEMBER</td>\n",
       "      <td>319768.0</td>\n",
       "    </tr>\n",
       "    <tr>\n",
       "      <th>4</th>\n",
       "      <td>ACEH</td>\n",
       "      <td>2002</td>\n",
       "      <td>330000.0</td>\n",
       "      <td>MAKANAN</td>\n",
       "      <td>PERDESAAN</td>\n",
       "      <td>2015</td>\n",
       "      <td>MARET</td>\n",
       "      <td>297479.0</td>\n",
       "    </tr>\n",
       "  </tbody>\n",
       "</table>\n",
       "</div>"
      ],
      "text/plain": [
       "  provinsi  tahun_x       ump    jenis     daerah  tahun_y    periode  \\\n",
       "0     ACEH     2002  330000.0  MAKANAN  PERKOTAAN     2015      MARET   \n",
       "1     ACEH     2002  330000.0  MAKANAN  PERKOTAAN     2015  SEPTEMBER   \n",
       "2     ACEH     2002  330000.0  MAKANAN  PERKOTAAN     2016      MARET   \n",
       "3     ACEH     2002  330000.0  MAKANAN  PERKOTAAN     2016  SEPTEMBER   \n",
       "4     ACEH     2002  330000.0  MAKANAN  PERDESAAN     2015      MARET   \n",
       "\n",
       "         gk  \n",
       "0  293697.0  \n",
       "1  302128.0  \n",
       "2  306243.0  \n",
       "3  319768.0  \n",
       "4  297479.0  "
      ]
     },
     "execution_count": 41,
     "metadata": {},
     "output_type": "execute_result"
    }
   ],
   "source": [
    "# Menggabungkan df_ump dan df_gk berdasarkan 'provinsi'\n",
    "df_combined = pd.merge(\n",
    "    left=df_ump, \n",
    "    right=df_gk,\n",
    "    how= 'left',\n",
    "    left_on='provinsi',\n",
    "    right_on='provinsi'\n",
    ")\n",
    "\n",
    "df_combined.head()\n"
   ]
  },
  {
   "cell_type": "code",
   "execution_count": 42,
   "metadata": {},
   "outputs": [
    {
     "data": {
      "text/html": [
       "<div>\n",
       "<style scoped>\n",
       "    .dataframe tbody tr th:only-of-type {\n",
       "        vertical-align: middle;\n",
       "    }\n",
       "\n",
       "    .dataframe tbody tr th {\n",
       "        vertical-align: top;\n",
       "    }\n",
       "\n",
       "    .dataframe thead th {\n",
       "        text-align: right;\n",
       "    }\n",
       "</style>\n",
       "<table border=\"1\" class=\"dataframe\">\n",
       "  <thead>\n",
       "    <tr style=\"text-align: right;\">\n",
       "      <th></th>\n",
       "      <th>gk</th>\n",
       "      <th>ump</th>\n",
       "      <th>tahun_x</th>\n",
       "    </tr>\n",
       "    <tr>\n",
       "      <th>provinsi</th>\n",
       "      <th></th>\n",
       "      <th></th>\n",
       "      <th></th>\n",
       "    </tr>\n",
       "  </thead>\n",
       "  <tbody>\n",
       "    <tr>\n",
       "      <th>ACEH</th>\n",
       "      <td>[293697.0, 302128.0, 306243.0, 319768.0, 29747...</td>\n",
       "      <td>[330000.0, 330000.0, 330000.0, 330000.0, 33000...</td>\n",
       "      <td>[2002, 2003, 2004, 2005, 2006, 2007, 2008, 200...</td>\n",
       "    </tr>\n",
       "    <tr>\n",
       "      <th>BALI</th>\n",
       "      <td>[226679.0, 231680.0, 237835.0, 242429.0, 21435...</td>\n",
       "      <td>[341000.0, 341000.0, 341000.0, 341000.0, 34100...</td>\n",
       "      <td>[2002, 2003, 2004, 2005, 2006, 2007, 2008, 200...</td>\n",
       "    </tr>\n",
       "    <tr>\n",
       "      <th>BANTEN</th>\n",
       "      <td>[235211.0, 248503.0, 256536.0, 261285.0, 24125...</td>\n",
       "      <td>[360000.0, 360000.0, 360000.0, 360000.0, 36000...</td>\n",
       "      <td>[2002, 2003, 2004, 2005, 2006, 2007, 2008, 200...</td>\n",
       "    </tr>\n",
       "    <tr>\n",
       "      <th>BENGKULU</th>\n",
       "      <td>[288387.0, 313872.0, 315710.0, 335957.0, 30305...</td>\n",
       "      <td>[295000.0, 295000.0, 295000.0, 295000.0, 29500...</td>\n",
       "      <td>[2002, 2003, 2004, 2005, 2006, 2007, 2008, 200...</td>\n",
       "    </tr>\n",
       "    <tr>\n",
       "      <th>DI YOGYAKARTA</th>\n",
       "      <td>[238042.0, 249320.0, 254284.0, 257677.0, 23634...</td>\n",
       "      <td>[321800.0, 321800.0, 321800.0, 321800.0, 32180...</td>\n",
       "      <td>[2002, 2003, 2004, 2005, 2006, 2007, 2008, 200...</td>\n",
       "    </tr>\n",
       "    <tr>\n",
       "      <th>DKI JAKARTA</th>\n",
       "      <td>[319595.0, 327678.0, 329644.0, 334938.0, 30390...</td>\n",
       "      <td>[591300.0, 591300.0, 591300.0, 591300.0, 59130...</td>\n",
       "      <td>[2002, 2003, 2004, 2005, 2006, 2007, 2008, 200...</td>\n",
       "    </tr>\n",
       "    <tr>\n",
       "      <th>GORONTALO</th>\n",
       "      <td>[191995.0, 201515.0, 209232.0, 211756.0, 20798...</td>\n",
       "      <td>[375000.0, 375000.0, 375000.0, 375000.0, 37500...</td>\n",
       "      <td>[2002, 2003, 2004, 2005, 2006, 2007, 2008, 200...</td>\n",
       "    </tr>\n",
       "    <tr>\n",
       "      <th>INDONESIA</th>\n",
       "      <td>[238278.0, 247840.0, 255181.0, 259886.0, 24535...</td>\n",
       "      <td>[362700.0, 362700.0, 362700.0, 362700.0, 36270...</td>\n",
       "      <td>[2002, 2003, 2004, 2005, 2006, 2007, 2008, 200...</td>\n",
       "    </tr>\n",
       "    <tr>\n",
       "      <th>JAMBI</th>\n",
       "      <td>[297507.0, 308379.0, 319954.0, 328157.0, 24765...</td>\n",
       "      <td>[304000.0, 304000.0, 304000.0, 304000.0, 30400...</td>\n",
       "      <td>[2002, 2003, 2004, 2005, 2006, 2007, 2008, 200...</td>\n",
       "    </tr>\n",
       "    <tr>\n",
       "      <th>JAWA BARAT</th>\n",
       "      <td>[213479.0, 223843.0, 228191.0, 233953.0, 23125...</td>\n",
       "      <td>[280800.0, 280800.0, 280800.0, 280800.0, 28080...</td>\n",
       "      <td>[2002, 2003, 2004, 2005, 2006, 2007, 2008, 200...</td>\n",
       "    </tr>\n",
       "    <tr>\n",
       "      <th>JAWA TENGAH</th>\n",
       "      <td>[210932.0, 218935.0, 224987.0, 231212.0, 22184...</td>\n",
       "      <td>[314500.0, 314500.0, 314500.0, 314500.0, 31450...</td>\n",
       "      <td>[2002, 2003, 2004, 2005, 2006, 2007, 2008, 200...</td>\n",
       "    </tr>\n",
       "    <tr>\n",
       "      <th>JAWA TIMUR</th>\n",
       "      <td>[216139.0, 222168.0, 225900.0, 233472.0, 23056...</td>\n",
       "      <td>[245000.0, 245000.0, 245000.0, 245000.0, 24500...</td>\n",
       "      <td>[2002, 2003, 2004, 2005, 2006, 2007, 2008, 200...</td>\n",
       "    </tr>\n",
       "    <tr>\n",
       "      <th>KALIMANTAN BARAT</th>\n",
       "      <td>[250029.0, 259948.0, 265291.0, 275590.0, 25733...</td>\n",
       "      <td>[380000.0, 380000.0, 380000.0, 380000.0, 38000...</td>\n",
       "      <td>[2002, 2003, 2004, 2005, 2006, 2007, 2008, 200...</td>\n",
       "    </tr>\n",
       "    <tr>\n",
       "      <th>KALIMANTAN SELATAN</th>\n",
       "      <td>[229677.0, 235422.0, 248602.0, 257170.0, 25502...</td>\n",
       "      <td>[377500.0, 377500.0, 377500.0, 377500.0, 37750...</td>\n",
       "      <td>[2002, 2003, 2004, 2005, 2006, 2007, 2008, 200...</td>\n",
       "    </tr>\n",
       "    <tr>\n",
       "      <th>KALIMANTAN TENGAH</th>\n",
       "      <td>[251976.0, 256020.0, 264149.0, 271490.0, 29685...</td>\n",
       "      <td>[362000.0, 362000.0, 362000.0, 362000.0, 36200...</td>\n",
       "      <td>[2002, 2003, 2004, 2005, 2006, 2007, 2008, 200...</td>\n",
       "    </tr>\n",
       "    <tr>\n",
       "      <th>KALIMANTAN TIMUR</th>\n",
       "      <td>[337970.0, 348480.0, 359194.0, 370609.0, 33361...</td>\n",
       "      <td>[500000.0, 500000.0, 500000.0, 500000.0, 50000...</td>\n",
       "      <td>[2002, 2003, 2004, 2005, 2006, 2007, 2008, 200...</td>\n",
       "    </tr>\n",
       "    <tr>\n",
       "      <th>KALIMANTAN UTARA</th>\n",
       "      <td>[342729.0, 355117.0, 367378.0, 379442.0, 33990...</td>\n",
       "      <td>[1402290.4528832631, 1402290.4528832631, 14022...</td>\n",
       "      <td>[2002, 2003, 2004, 2005, 2006, 2007, 2008, 200...</td>\n",
       "    </tr>\n",
       "    <tr>\n",
       "      <th>KEP. BANGKA BELITUNG</th>\n",
       "      <td>[330178.0, 362214.0, 365938.0, 387559.0, 37565...</td>\n",
       "      <td>[345000.0, 345000.0, 345000.0, 345000.0, 34500...</td>\n",
       "      <td>[2002, 2003, 2004, 2005, 2006, 2007, 2008, 200...</td>\n",
       "    </tr>\n",
       "    <tr>\n",
       "      <th>KEP. RIAU</th>\n",
       "      <td>[298998.0, 318580.0, 326014.0, 334582.0, 31651...</td>\n",
       "      <td>[1402290.4528832631, 1402290.4528832631, 14022...</td>\n",
       "      <td>[2002, 2003, 2004, 2005, 2006, 2007, 2008, 200...</td>\n",
       "    </tr>\n",
       "    <tr>\n",
       "      <th>LAMPUNG</th>\n",
       "      <td>[260892.0, 274255.0, 279240.0, 284222.0, 25136...</td>\n",
       "      <td>[310000.0, 310000.0, 310000.0, 310000.0, 31000...</td>\n",
       "      <td>[2002, 2003, 2004, 2005, 2006, 2007, 2008, 200...</td>\n",
       "    </tr>\n",
       "    <tr>\n",
       "      <th>MALUKU</th>\n",
       "      <td>[293811.0, 294604.0, 301282.0, 309375.0, 31501...</td>\n",
       "      <td>[285000.0, 285000.0, 285000.0, 285000.0, 28500...</td>\n",
       "      <td>[2002, 2003, 2004, 2005, 2006, 2007, 2008, 200...</td>\n",
       "    </tr>\n",
       "    <tr>\n",
       "      <th>MALUKU UTARA</th>\n",
       "      <td>[279379.0, 292989.0, 301209.0, 311558.0, 27385...</td>\n",
       "      <td>[322000.0, 322000.0, 322000.0, 322000.0, 32200...</td>\n",
       "      <td>[2002, 2003, 2004, 2005, 2006, 2007, 2008, 200...</td>\n",
       "    </tr>\n",
       "    <tr>\n",
       "      <th>NUSA TENGGARA BARAT</th>\n",
       "      <td>[238797.0, 244162.0, 251734.0, 252343.0, 23228...</td>\n",
       "      <td>[320000.0, 320000.0, 320000.0, 320000.0, 32000...</td>\n",
       "      <td>[2002, 2003, 2004, 2005, 2006, 2007, 2008, 200...</td>\n",
       "    </tr>\n",
       "    <tr>\n",
       "      <th>NUSA TENGGARA TIMUR</th>\n",
       "      <td>[260406.0, 265296.0, 275382.0, 277266.0, 23246...</td>\n",
       "      <td>[330000.0, 330000.0, 330000.0, 330000.0, 33000...</td>\n",
       "      <td>[2002, 2003, 2004, 2005, 2006, 2007, 2008, 200...</td>\n",
       "    </tr>\n",
       "    <tr>\n",
       "      <th>PAPUA</th>\n",
       "      <td>[289615.0, 290712.0, 305903.0, 314057.0, 30756...</td>\n",
       "      <td>[530000.0, 530000.0, 530000.0, 530000.0, 53000...</td>\n",
       "      <td>[2002, 2003, 2004, 2005, 2006, 2007, 2008, 200...</td>\n",
       "    </tr>\n",
       "    <tr>\n",
       "      <th>PAPUA BARAT</th>\n",
       "      <td>[328107.0, 346945.0, 355672.0, 370573.0, 35845...</td>\n",
       "      <td>[1402290.4528832631, 1402290.4528832631, 14022...</td>\n",
       "      <td>[2002, 2003, 2004, 2005, 2006, 2007, 2008, 200...</td>\n",
       "    </tr>\n",
       "    <tr>\n",
       "      <th>RIAU</th>\n",
       "      <td>[280361.0, 288956.0, 292026.0, 301570.0, 30242...</td>\n",
       "      <td>[394000.0, 394000.0, 394000.0, 394000.0, 39400...</td>\n",
       "      <td>[2002, 2003, 2004, 2005, 2006, 2007, 2008, 200...</td>\n",
       "    </tr>\n",
       "    <tr>\n",
       "      <th>SULAWESI BARAT</th>\n",
       "      <td>[204476.0, 212226.0, 215503.0, 220419.0, 20987...</td>\n",
       "      <td>[1402290.4528832631, 1402290.4528832631, 14022...</td>\n",
       "      <td>[2002, 2003, 2004, 2005, 2006, 2007, 2008, 200...</td>\n",
       "    </tr>\n",
       "    <tr>\n",
       "      <th>SULAWESI SELATAN</th>\n",
       "      <td>[181842.0, 186893.0, 193372.0, 196645.0, 19056...</td>\n",
       "      <td>[375000.0, 375000.0, 375000.0, 375000.0, 37500...</td>\n",
       "      <td>[2002, 2003, 2004, 2005, 2006, 2007, 2008, 200...</td>\n",
       "    </tr>\n",
       "    <tr>\n",
       "      <th>SULAWESI TENGAH</th>\n",
       "      <td>[249419.0, 264458.0, 275962.0, 281450.0, 26152...</td>\n",
       "      <td>[350000.0, 350000.0, 350000.0, 350000.0, 35000...</td>\n",
       "      <td>[2002, 2003, 2004, 2005, 2006, 2007, 2008, 200...</td>\n",
       "    </tr>\n",
       "    <tr>\n",
       "      <th>SULAWESI TENGGARA</th>\n",
       "      <td>[190438.0, 200424.0, 205281.0, 209281.0, 19601...</td>\n",
       "      <td>[325000.0, 325000.0, 325000.0, 325000.0, 32500...</td>\n",
       "      <td>[2002, 2003, 2004, 2005, 2006, 2007, 2008, 200...</td>\n",
       "    </tr>\n",
       "    <tr>\n",
       "      <th>SULAWESI UTARA</th>\n",
       "      <td>[217995.0, 224280.0, 232497.0, 234016.0, 24094...</td>\n",
       "      <td>[438000.0, 438000.0, 438000.0, 438000.0, 43800...</td>\n",
       "      <td>[2002, 2003, 2004, 2005, 2006, 2007, 2008, 200...</td>\n",
       "    </tr>\n",
       "    <tr>\n",
       "      <th>SUMATERA BARAT</th>\n",
       "      <td>[288410.0, 301356.0, 312154.0, 322168.0, 29376...</td>\n",
       "      <td>[385000.0, 385000.0, 385000.0, 385000.0, 38500...</td>\n",
       "      <td>[2002, 2003, 2004, 2005, 2006, 2007, 2008, 200...</td>\n",
       "    </tr>\n",
       "    <tr>\n",
       "      <th>SUMATERA SELATAN</th>\n",
       "      <td>[263734.0, 272915.0, 275736.0, 283334.0, 24370...</td>\n",
       "      <td>[331500.0, 331500.0, 331500.0, 331500.0, 33150...</td>\n",
       "      <td>[2002, 2003, 2004, 2005, 2006, 2007, 2008, 200...</td>\n",
       "    </tr>\n",
       "    <tr>\n",
       "      <th>SUMATERA UTARA</th>\n",
       "      <td>[261677.0, 273271.0, 290096.0, 302027.0, 26614...</td>\n",
       "      <td>[464000.0, 464000.0, 464000.0, 464000.0, 46400...</td>\n",
       "      <td>[2002, 2003, 2004, 2005, 2006, 2007, 2008, 200...</td>\n",
       "    </tr>\n",
       "  </tbody>\n",
       "</table>\n",
       "</div>"
      ],
      "text/plain": [
       "                                                                     gk  \\\n",
       "provinsi                                                                  \n",
       "ACEH                  [293697.0, 302128.0, 306243.0, 319768.0, 29747...   \n",
       "BALI                  [226679.0, 231680.0, 237835.0, 242429.0, 21435...   \n",
       "BANTEN                [235211.0, 248503.0, 256536.0, 261285.0, 24125...   \n",
       "BENGKULU              [288387.0, 313872.0, 315710.0, 335957.0, 30305...   \n",
       "DI YOGYAKARTA         [238042.0, 249320.0, 254284.0, 257677.0, 23634...   \n",
       "DKI JAKARTA           [319595.0, 327678.0, 329644.0, 334938.0, 30390...   \n",
       "GORONTALO             [191995.0, 201515.0, 209232.0, 211756.0, 20798...   \n",
       "INDONESIA             [238278.0, 247840.0, 255181.0, 259886.0, 24535...   \n",
       "JAMBI                 [297507.0, 308379.0, 319954.0, 328157.0, 24765...   \n",
       "JAWA BARAT            [213479.0, 223843.0, 228191.0, 233953.0, 23125...   \n",
       "JAWA TENGAH           [210932.0, 218935.0, 224987.0, 231212.0, 22184...   \n",
       "JAWA TIMUR            [216139.0, 222168.0, 225900.0, 233472.0, 23056...   \n",
       "KALIMANTAN BARAT      [250029.0, 259948.0, 265291.0, 275590.0, 25733...   \n",
       "KALIMANTAN SELATAN    [229677.0, 235422.0, 248602.0, 257170.0, 25502...   \n",
       "KALIMANTAN TENGAH     [251976.0, 256020.0, 264149.0, 271490.0, 29685...   \n",
       "KALIMANTAN TIMUR      [337970.0, 348480.0, 359194.0, 370609.0, 33361...   \n",
       "KALIMANTAN UTARA      [342729.0, 355117.0, 367378.0, 379442.0, 33990...   \n",
       "KEP. BANGKA BELITUNG  [330178.0, 362214.0, 365938.0, 387559.0, 37565...   \n",
       "KEP. RIAU             [298998.0, 318580.0, 326014.0, 334582.0, 31651...   \n",
       "LAMPUNG               [260892.0, 274255.0, 279240.0, 284222.0, 25136...   \n",
       "MALUKU                [293811.0, 294604.0, 301282.0, 309375.0, 31501...   \n",
       "MALUKU UTARA          [279379.0, 292989.0, 301209.0, 311558.0, 27385...   \n",
       "NUSA TENGGARA BARAT   [238797.0, 244162.0, 251734.0, 252343.0, 23228...   \n",
       "NUSA TENGGARA TIMUR   [260406.0, 265296.0, 275382.0, 277266.0, 23246...   \n",
       "PAPUA                 [289615.0, 290712.0, 305903.0, 314057.0, 30756...   \n",
       "PAPUA BARAT           [328107.0, 346945.0, 355672.0, 370573.0, 35845...   \n",
       "RIAU                  [280361.0, 288956.0, 292026.0, 301570.0, 30242...   \n",
       "SULAWESI BARAT        [204476.0, 212226.0, 215503.0, 220419.0, 20987...   \n",
       "SULAWESI SELATAN      [181842.0, 186893.0, 193372.0, 196645.0, 19056...   \n",
       "SULAWESI TENGAH       [249419.0, 264458.0, 275962.0, 281450.0, 26152...   \n",
       "SULAWESI TENGGARA     [190438.0, 200424.0, 205281.0, 209281.0, 19601...   \n",
       "SULAWESI UTARA        [217995.0, 224280.0, 232497.0, 234016.0, 24094...   \n",
       "SUMATERA BARAT        [288410.0, 301356.0, 312154.0, 322168.0, 29376...   \n",
       "SUMATERA SELATAN      [263734.0, 272915.0, 275736.0, 283334.0, 24370...   \n",
       "SUMATERA UTARA        [261677.0, 273271.0, 290096.0, 302027.0, 26614...   \n",
       "\n",
       "                                                                    ump  \\\n",
       "provinsi                                                                  \n",
       "ACEH                  [330000.0, 330000.0, 330000.0, 330000.0, 33000...   \n",
       "BALI                  [341000.0, 341000.0, 341000.0, 341000.0, 34100...   \n",
       "BANTEN                [360000.0, 360000.0, 360000.0, 360000.0, 36000...   \n",
       "BENGKULU              [295000.0, 295000.0, 295000.0, 295000.0, 29500...   \n",
       "DI YOGYAKARTA         [321800.0, 321800.0, 321800.0, 321800.0, 32180...   \n",
       "DKI JAKARTA           [591300.0, 591300.0, 591300.0, 591300.0, 59130...   \n",
       "GORONTALO             [375000.0, 375000.0, 375000.0, 375000.0, 37500...   \n",
       "INDONESIA             [362700.0, 362700.0, 362700.0, 362700.0, 36270...   \n",
       "JAMBI                 [304000.0, 304000.0, 304000.0, 304000.0, 30400...   \n",
       "JAWA BARAT            [280800.0, 280800.0, 280800.0, 280800.0, 28080...   \n",
       "JAWA TENGAH           [314500.0, 314500.0, 314500.0, 314500.0, 31450...   \n",
       "JAWA TIMUR            [245000.0, 245000.0, 245000.0, 245000.0, 24500...   \n",
       "KALIMANTAN BARAT      [380000.0, 380000.0, 380000.0, 380000.0, 38000...   \n",
       "KALIMANTAN SELATAN    [377500.0, 377500.0, 377500.0, 377500.0, 37750...   \n",
       "KALIMANTAN TENGAH     [362000.0, 362000.0, 362000.0, 362000.0, 36200...   \n",
       "KALIMANTAN TIMUR      [500000.0, 500000.0, 500000.0, 500000.0, 50000...   \n",
       "KALIMANTAN UTARA      [1402290.4528832631, 1402290.4528832631, 14022...   \n",
       "KEP. BANGKA BELITUNG  [345000.0, 345000.0, 345000.0, 345000.0, 34500...   \n",
       "KEP. RIAU             [1402290.4528832631, 1402290.4528832631, 14022...   \n",
       "LAMPUNG               [310000.0, 310000.0, 310000.0, 310000.0, 31000...   \n",
       "MALUKU                [285000.0, 285000.0, 285000.0, 285000.0, 28500...   \n",
       "MALUKU UTARA          [322000.0, 322000.0, 322000.0, 322000.0, 32200...   \n",
       "NUSA TENGGARA BARAT   [320000.0, 320000.0, 320000.0, 320000.0, 32000...   \n",
       "NUSA TENGGARA TIMUR   [330000.0, 330000.0, 330000.0, 330000.0, 33000...   \n",
       "PAPUA                 [530000.0, 530000.0, 530000.0, 530000.0, 53000...   \n",
       "PAPUA BARAT           [1402290.4528832631, 1402290.4528832631, 14022...   \n",
       "RIAU                  [394000.0, 394000.0, 394000.0, 394000.0, 39400...   \n",
       "SULAWESI BARAT        [1402290.4528832631, 1402290.4528832631, 14022...   \n",
       "SULAWESI SELATAN      [375000.0, 375000.0, 375000.0, 375000.0, 37500...   \n",
       "SULAWESI TENGAH       [350000.0, 350000.0, 350000.0, 350000.0, 35000...   \n",
       "SULAWESI TENGGARA     [325000.0, 325000.0, 325000.0, 325000.0, 32500...   \n",
       "SULAWESI UTARA        [438000.0, 438000.0, 438000.0, 438000.0, 43800...   \n",
       "SUMATERA BARAT        [385000.0, 385000.0, 385000.0, 385000.0, 38500...   \n",
       "SUMATERA SELATAN      [331500.0, 331500.0, 331500.0, 331500.0, 33150...   \n",
       "SUMATERA UTARA        [464000.0, 464000.0, 464000.0, 464000.0, 46400...   \n",
       "\n",
       "                                                                tahun_x  \n",
       "provinsi                                                                 \n",
       "ACEH                  [2002, 2003, 2004, 2005, 2006, 2007, 2008, 200...  \n",
       "BALI                  [2002, 2003, 2004, 2005, 2006, 2007, 2008, 200...  \n",
       "BANTEN                [2002, 2003, 2004, 2005, 2006, 2007, 2008, 200...  \n",
       "BENGKULU              [2002, 2003, 2004, 2005, 2006, 2007, 2008, 200...  \n",
       "DI YOGYAKARTA         [2002, 2003, 2004, 2005, 2006, 2007, 2008, 200...  \n",
       "DKI JAKARTA           [2002, 2003, 2004, 2005, 2006, 2007, 2008, 200...  \n",
       "GORONTALO             [2002, 2003, 2004, 2005, 2006, 2007, 2008, 200...  \n",
       "INDONESIA             [2002, 2003, 2004, 2005, 2006, 2007, 2008, 200...  \n",
       "JAMBI                 [2002, 2003, 2004, 2005, 2006, 2007, 2008, 200...  \n",
       "JAWA BARAT            [2002, 2003, 2004, 2005, 2006, 2007, 2008, 200...  \n",
       "JAWA TENGAH           [2002, 2003, 2004, 2005, 2006, 2007, 2008, 200...  \n",
       "JAWA TIMUR            [2002, 2003, 2004, 2005, 2006, 2007, 2008, 200...  \n",
       "KALIMANTAN BARAT      [2002, 2003, 2004, 2005, 2006, 2007, 2008, 200...  \n",
       "KALIMANTAN SELATAN    [2002, 2003, 2004, 2005, 2006, 2007, 2008, 200...  \n",
       "KALIMANTAN TENGAH     [2002, 2003, 2004, 2005, 2006, 2007, 2008, 200...  \n",
       "KALIMANTAN TIMUR      [2002, 2003, 2004, 2005, 2006, 2007, 2008, 200...  \n",
       "KALIMANTAN UTARA      [2002, 2003, 2004, 2005, 2006, 2007, 2008, 200...  \n",
       "KEP. BANGKA BELITUNG  [2002, 2003, 2004, 2005, 2006, 2007, 2008, 200...  \n",
       "KEP. RIAU             [2002, 2003, 2004, 2005, 2006, 2007, 2008, 200...  \n",
       "LAMPUNG               [2002, 2003, 2004, 2005, 2006, 2007, 2008, 200...  \n",
       "MALUKU                [2002, 2003, 2004, 2005, 2006, 2007, 2008, 200...  \n",
       "MALUKU UTARA          [2002, 2003, 2004, 2005, 2006, 2007, 2008, 200...  \n",
       "NUSA TENGGARA BARAT   [2002, 2003, 2004, 2005, 2006, 2007, 2008, 200...  \n",
       "NUSA TENGGARA TIMUR   [2002, 2003, 2004, 2005, 2006, 2007, 2008, 200...  \n",
       "PAPUA                 [2002, 2003, 2004, 2005, 2006, 2007, 2008, 200...  \n",
       "PAPUA BARAT           [2002, 2003, 2004, 2005, 2006, 2007, 2008, 200...  \n",
       "RIAU                  [2002, 2003, 2004, 2005, 2006, 2007, 2008, 200...  \n",
       "SULAWESI BARAT        [2002, 2003, 2004, 2005, 2006, 2007, 2008, 200...  \n",
       "SULAWESI SELATAN      [2002, 2003, 2004, 2005, 2006, 2007, 2008, 200...  \n",
       "SULAWESI TENGAH       [2002, 2003, 2004, 2005, 2006, 2007, 2008, 200...  \n",
       "SULAWESI TENGGARA     [2002, 2003, 2004, 2005, 2006, 2007, 2008, 200...  \n",
       "SULAWESI UTARA        [2002, 2003, 2004, 2005, 2006, 2007, 2008, 200...  \n",
       "SUMATERA BARAT        [2002, 2003, 2004, 2005, 2006, 2007, 2008, 200...  \n",
       "SUMATERA SELATAN      [2002, 2003, 2004, 2005, 2006, 2007, 2008, 200...  \n",
       "SUMATERA UTARA        [2002, 2003, 2004, 2005, 2006, 2007, 2008, 200...  "
      ]
     },
     "execution_count": 42,
     "metadata": {},
     "output_type": "execute_result"
    }
   ],
   "source": [
    "df_combined.groupby('provinsi').agg({\n",
    "    'gk': lambda x: list(x),\n",
    "    'ump': lambda x: list(x),\n",
    "    'tahun_x': lambda x: sorted(x.unique().tolist())  # Mengurutkan tahun secara unik\n",
    "})"
   ]
  },
  {
   "cell_type": "code",
   "execution_count": 43,
   "metadata": {},
   "outputs": [],
   "source": [
    "df_combined.to_csv('df_combined.csv', index=False)"
   ]
  },
  {
   "cell_type": "code",
   "execution_count": 44,
   "metadata": {},
   "outputs": [
    {
     "data": {
      "text/html": [
       "<div>\n",
       "<style scoped>\n",
       "    .dataframe tbody tr th:only-of-type {\n",
       "        vertical-align: middle;\n",
       "    }\n",
       "\n",
       "    .dataframe tbody tr th {\n",
       "        vertical-align: top;\n",
       "    }\n",
       "\n",
       "    .dataframe thead th {\n",
       "        text-align: right;\n",
       "    }\n",
       "</style>\n",
       "<table border=\"1\" class=\"dataframe\">\n",
       "  <thead>\n",
       "    <tr style=\"text-align: right;\">\n",
       "      <th></th>\n",
       "      <th>provinsi</th>\n",
       "      <th>jenis_x</th>\n",
       "      <th>daerah_x</th>\n",
       "      <th>tahun_x</th>\n",
       "      <th>periode</th>\n",
       "      <th>gk</th>\n",
       "      <th>daerah_y</th>\n",
       "      <th>jenis_y</th>\n",
       "      <th>tahun_y</th>\n",
       "      <th>peng</th>\n",
       "    </tr>\n",
       "  </thead>\n",
       "  <tbody>\n",
       "    <tr>\n",
       "      <th>0</th>\n",
       "      <td>ACEH</td>\n",
       "      <td>MAKANAN</td>\n",
       "      <td>PERKOTAAN</td>\n",
       "      <td>2015</td>\n",
       "      <td>MARET</td>\n",
       "      <td>293697.0</td>\n",
       "      <td>PERDESAAN</td>\n",
       "      <td>MAKANAN</td>\n",
       "      <td>2007</td>\n",
       "      <td>195176.0</td>\n",
       "    </tr>\n",
       "    <tr>\n",
       "      <th>1</th>\n",
       "      <td>ACEH</td>\n",
       "      <td>MAKANAN</td>\n",
       "      <td>PERKOTAAN</td>\n",
       "      <td>2015</td>\n",
       "      <td>MARET</td>\n",
       "      <td>293697.0</td>\n",
       "      <td>PERDESAAN</td>\n",
       "      <td>MAKANAN</td>\n",
       "      <td>2008</td>\n",
       "      <td>218781.0</td>\n",
       "    </tr>\n",
       "    <tr>\n",
       "      <th>2</th>\n",
       "      <td>ACEH</td>\n",
       "      <td>MAKANAN</td>\n",
       "      <td>PERKOTAAN</td>\n",
       "      <td>2015</td>\n",
       "      <td>MARET</td>\n",
       "      <td>293697.0</td>\n",
       "      <td>PERDESAAN</td>\n",
       "      <td>MAKANAN</td>\n",
       "      <td>2009</td>\n",
       "      <td>247427.0</td>\n",
       "    </tr>\n",
       "    <tr>\n",
       "      <th>3</th>\n",
       "      <td>ACEH</td>\n",
       "      <td>MAKANAN</td>\n",
       "      <td>PERKOTAAN</td>\n",
       "      <td>2015</td>\n",
       "      <td>MARET</td>\n",
       "      <td>293697.0</td>\n",
       "      <td>PERDESAAN</td>\n",
       "      <td>MAKANAN</td>\n",
       "      <td>2010</td>\n",
       "      <td>275749.0</td>\n",
       "    </tr>\n",
       "    <tr>\n",
       "      <th>4</th>\n",
       "      <td>ACEH</td>\n",
       "      <td>MAKANAN</td>\n",
       "      <td>PERKOTAAN</td>\n",
       "      <td>2015</td>\n",
       "      <td>MARET</td>\n",
       "      <td>293697.0</td>\n",
       "      <td>PERDESAAN</td>\n",
       "      <td>MAKANAN</td>\n",
       "      <td>2011</td>\n",
       "      <td>308000.0</td>\n",
       "    </tr>\n",
       "  </tbody>\n",
       "</table>\n",
       "</div>"
      ],
      "text/plain": [
       "  provinsi  jenis_x   daerah_x  tahun_x periode        gk   daerah_y  jenis_y  \\\n",
       "0     ACEH  MAKANAN  PERKOTAAN     2015   MARET  293697.0  PERDESAAN  MAKANAN   \n",
       "1     ACEH  MAKANAN  PERKOTAAN     2015   MARET  293697.0  PERDESAAN  MAKANAN   \n",
       "2     ACEH  MAKANAN  PERKOTAAN     2015   MARET  293697.0  PERDESAAN  MAKANAN   \n",
       "3     ACEH  MAKANAN  PERKOTAAN     2015   MARET  293697.0  PERDESAAN  MAKANAN   \n",
       "4     ACEH  MAKANAN  PERKOTAAN     2015   MARET  293697.0  PERDESAAN  MAKANAN   \n",
       "\n",
       "   tahun_y      peng  \n",
       "0     2007  195176.0  \n",
       "1     2008  218781.0  \n",
       "2     2009  247427.0  \n",
       "3     2010  275749.0  \n",
       "4     2011  308000.0  "
      ]
     },
     "execution_count": 44,
     "metadata": {},
     "output_type": "execute_result"
    }
   ],
   "source": [
    "# Menggabungkan df_ump dan df_gk berdasarkan 'provinsi'\n",
    "df_gk_peng = pd.merge(\n",
    "    left=df_gk, \n",
    "    right=df_peng,\n",
    "    how= 'left',\n",
    "    left_on='provinsi',\n",
    "    right_on='provinsi'\n",
    ")\n",
    "\n",
    "df_gk_peng.head()"
   ]
  },
  {
   "cell_type": "code",
   "execution_count": 45,
   "metadata": {},
   "outputs": [
    {
     "data": {
      "text/html": [
       "<div>\n",
       "<style scoped>\n",
       "    .dataframe tbody tr th:only-of-type {\n",
       "        vertical-align: middle;\n",
       "    }\n",
       "\n",
       "    .dataframe tbody tr th {\n",
       "        vertical-align: top;\n",
       "    }\n",
       "\n",
       "    .dataframe thead th {\n",
       "        text-align: right;\n",
       "    }\n",
       "</style>\n",
       "<table border=\"1\" class=\"dataframe\">\n",
       "  <thead>\n",
       "    <tr style=\"text-align: right;\">\n",
       "      <th></th>\n",
       "      <th>gk</th>\n",
       "      <th>peng</th>\n",
       "      <th>tahun_x</th>\n",
       "    </tr>\n",
       "    <tr>\n",
       "      <th>provinsi</th>\n",
       "      <th></th>\n",
       "      <th></th>\n",
       "      <th></th>\n",
       "    </tr>\n",
       "  </thead>\n",
       "  <tbody>\n",
       "    <tr>\n",
       "      <th>ACEH</th>\n",
       "      <td>[293697.0, 293697.0, 293697.0, 293697.0, 29369...</td>\n",
       "      <td>[195176.0, 218781.0, 247427.0, 275749.0, 30800...</td>\n",
       "      <td>[2013, 2014, 2015, 2016, 2017, 2018, 2019, 202...</td>\n",
       "    </tr>\n",
       "    <tr>\n",
       "      <th>BALI</th>\n",
       "      <td>[226679.0, 226679.0, 226679.0, 226679.0, 22667...</td>\n",
       "      <td>[167040.0, 167920.0, 183935.0, 234204.0, 27770...</td>\n",
       "      <td>[2013, 2014, 2015, 2016, 2017, 2018, 2019, 202...</td>\n",
       "    </tr>\n",
       "    <tr>\n",
       "      <th>BANTEN</th>\n",
       "      <td>[235211.0, 235211.0, 235211.0, 235211.0, 23521...</td>\n",
       "      <td>[154658.0, 180920.0, 195712.0, 234517.0, 26238...</td>\n",
       "      <td>[2013, 2014, 2015, 2016, 2017, 2018, 2019, 202...</td>\n",
       "    </tr>\n",
       "    <tr>\n",
       "      <th>BENGKULU</th>\n",
       "      <td>[288387.0, 288387.0, 288387.0, 288387.0, 28838...</td>\n",
       "      <td>[153883.0, 185289.0, 195910.0, 239474.0, 28180...</td>\n",
       "      <td>[2013, 2014, 2015, 2016, 2017, 2018, 2019, 202...</td>\n",
       "    </tr>\n",
       "    <tr>\n",
       "      <th>DI YOGYAKARTA</th>\n",
       "      <td>[238042.0, 238042.0, 238042.0, 238042.0, 23804...</td>\n",
       "      <td>[131247.0, 141612.0, 159436.0, 195603.0, 22394...</td>\n",
       "      <td>[2013, 2014, 2015, 2016, 2017, 2018, 2019, 202...</td>\n",
       "    </tr>\n",
       "    <tr>\n",
       "      <th>DKI JAKARTA</th>\n",
       "      <td>[319595.0, 319595.0, 319595.0, 319595.0, 31959...</td>\n",
       "      <td>[601201.1686613475, 601201.1686613475, 601201....</td>\n",
       "      <td>[2013, 2014, 2015, 2016, 2017, 2018, 2019, 202...</td>\n",
       "    </tr>\n",
       "    <tr>\n",
       "      <th>GORONTALO</th>\n",
       "      <td>[191995.0, 191995.0, 191995.0, 191995.0, 19199...</td>\n",
       "      <td>[119765.0, 133510.0, 147191.0, 194224.0, 22625...</td>\n",
       "      <td>[2013, 2014, 2015, 2016, 2017, 2018, 2019, 202...</td>\n",
       "    </tr>\n",
       "    <tr>\n",
       "      <th>INDONESIA</th>\n",
       "      <td>[238278.0, 238278.0, 238278.0, 238278.0, 23827...</td>\n",
       "      <td>[148613.0, 166583.0, 186741.0, 219803.0, 25492...</td>\n",
       "      <td>[2013, 2014, 2015, 2016, 2017, 2018, 2019, 202...</td>\n",
       "    </tr>\n",
       "    <tr>\n",
       "      <th>JAMBI</th>\n",
       "      <td>[297507.0, 297507.0, 297507.0, 297507.0, 29750...</td>\n",
       "      <td>[179472.0, 200524.0, 214071.0, 259432.0, 31228...</td>\n",
       "      <td>[2013, 2014, 2015, 2016, 2017, 2018, 2019, 202...</td>\n",
       "    </tr>\n",
       "    <tr>\n",
       "      <th>JAWA BARAT</th>\n",
       "      <td>[213479.0, 213479.0, 213479.0, 213479.0, 21347...</td>\n",
       "      <td>[153304.0, 165387.0, 192426.0, 222277.0, 25047...</td>\n",
       "      <td>[2013, 2014, 2015, 2016, 2017, 2018, 2019, 202...</td>\n",
       "    </tr>\n",
       "    <tr>\n",
       "      <th>JAWA TENGAH</th>\n",
       "      <td>[210932.0, 210932.0, 210932.0, 210932.0, 21093...</td>\n",
       "      <td>[125262.0, 138660.0, 156775.0, 183675.0, 21328...</td>\n",
       "      <td>[2013, 2014, 2015, 2016, 2017, 2018, 2019, 202...</td>\n",
       "    </tr>\n",
       "    <tr>\n",
       "      <th>JAWA TIMUR</th>\n",
       "      <td>[216139.0, 216139.0, 216139.0, 216139.0, 21613...</td>\n",
       "      <td>[122358.0, 139244.0, 158112.0, 181119.0, 20796...</td>\n",
       "      <td>[2013, 2014, 2015, 2016, 2017, 2018, 2019, 202...</td>\n",
       "    </tr>\n",
       "    <tr>\n",
       "      <th>KALIMANTAN BARAT</th>\n",
       "      <td>[250029.0, 250029.0, 250029.0, 250029.0, 25002...</td>\n",
       "      <td>[166791.0, 194968.0, 222253.0, 243618.0, 28362...</td>\n",
       "      <td>[2013, 2014, 2015, 2016, 2017, 2018, 2019, 202...</td>\n",
       "    </tr>\n",
       "    <tr>\n",
       "      <th>KALIMANTAN SELATAN</th>\n",
       "      <td>[229677.0, 229677.0, 229677.0, 229677.0, 22967...</td>\n",
       "      <td>[189486.0, 211659.0, 244792.0, 288766.0, 34524...</td>\n",
       "      <td>[2013, 2014, 2015, 2016, 2017, 2018, 2019, 202...</td>\n",
       "    </tr>\n",
       "    <tr>\n",
       "      <th>KALIMANTAN TENGAH</th>\n",
       "      <td>[251976.0, 251976.0, 251976.0, 251976.0, 25197...</td>\n",
       "      <td>[192555.0, 235185.0, 251330.0, 296577.0, 35934...</td>\n",
       "      <td>[2013, 2014, 2015, 2016, 2017, 2018, 2019, 202...</td>\n",
       "    </tr>\n",
       "    <tr>\n",
       "      <th>KALIMANTAN TIMUR</th>\n",
       "      <td>[337970.0, 337970.0, 337970.0, 337970.0, 33797...</td>\n",
       "      <td>[189162.0, 208312.0, 223957.0, 287859.0, 34462...</td>\n",
       "      <td>[2013, 2014, 2015, 2016, 2017, 2018, 2019, 202...</td>\n",
       "    </tr>\n",
       "    <tr>\n",
       "      <th>KALIMANTAN UTARA</th>\n",
       "      <td>[342729.0, 342729.0, 342729.0, 342729.0, 34272...</td>\n",
       "      <td>[601201.1686613475, 601201.1686613475, 601201....</td>\n",
       "      <td>[2013, 2014, 2015, 2016, 2017, 2018, 2019, 202...</td>\n",
       "    </tr>\n",
       "    <tr>\n",
       "      <th>KEP. BANGKA BELITUNG</th>\n",
       "      <td>[330178.0, 330178.0, 330178.0, 330178.0, 33017...</td>\n",
       "      <td>[248396.0, 277071.0, 290870.0, 328440.0, 38947...</td>\n",
       "      <td>[2013, 2014, 2015, 2016, 2017, 2018, 2019, 202...</td>\n",
       "    </tr>\n",
       "    <tr>\n",
       "      <th>KEP. RIAU</th>\n",
       "      <td>[298998.0, 298998.0, 298998.0, 298998.0, 29899...</td>\n",
       "      <td>[216349.0, 244200.0, 303902.0, 341117.0, 40021...</td>\n",
       "      <td>[2013, 2014, 2015, 2016, 2017, 2018, 2019, 202...</td>\n",
       "    </tr>\n",
       "    <tr>\n",
       "      <th>LAMPUNG</th>\n",
       "      <td>[260892.0, 260892.0, 260892.0, 260892.0, 26089...</td>\n",
       "      <td>[143511.0, 159979.0, 166439.0, 200913.0, 24622...</td>\n",
       "      <td>[2013, 2014, 2015, 2016, 2017, 2018, 2019, 202...</td>\n",
       "    </tr>\n",
       "    <tr>\n",
       "      <th>MALUKU</th>\n",
       "      <td>[293811.0, 293811.0, 293811.0, 293811.0, 29381...</td>\n",
       "      <td>[144773.0, 155561.0, 175256.0, 212195.0, 25367...</td>\n",
       "      <td>[2013, 2014, 2015, 2016, 2017, 2018, 2019, 202...</td>\n",
       "    </tr>\n",
       "    <tr>\n",
       "      <th>MALUKU UTARA</th>\n",
       "      <td>[279379.0, 279379.0, 279379.0, 279379.0, 27937...</td>\n",
       "      <td>[177675.0, 191156.0, 211978.0, 251754.0, 25835...</td>\n",
       "      <td>[2013, 2014, 2015, 2016, 2017, 2018, 2019, 202...</td>\n",
       "    </tr>\n",
       "    <tr>\n",
       "      <th>NUSA TENGGARA BARAT</th>\n",
       "      <td>[238797.0, 238797.0, 238797.0, 238797.0, 23879...</td>\n",
       "      <td>[127335.0, 153907.0, 169850.0, 205617.0, 23243...</td>\n",
       "      <td>[2013, 2014, 2015, 2016, 2017, 2018, 2019, 202...</td>\n",
       "    </tr>\n",
       "    <tr>\n",
       "      <th>NUSA TENGGARA TIMUR</th>\n",
       "      <td>[260406.0, 260406.0, 260406.0, 260406.0, 26040...</td>\n",
       "      <td>[112287.0, 127838.0, 145969.0, 179358.0, 20077...</td>\n",
       "      <td>[2013, 2014, 2015, 2016, 2017, 2018, 2019, 202...</td>\n",
       "    </tr>\n",
       "    <tr>\n",
       "      <th>PAPUA</th>\n",
       "      <td>[289615.0, 289615.0, 289615.0, 289615.0, 28961...</td>\n",
       "      <td>[174794.0, 185796.0, 219375.0, 271703.0, 28970...</td>\n",
       "      <td>[2013, 2014, 2015, 2016, 2017, 2018, 2019, 202...</td>\n",
       "    </tr>\n",
       "    <tr>\n",
       "      <th>PAPUA BARAT</th>\n",
       "      <td>[328107.0, 328107.0, 328107.0, 328107.0, 32810...</td>\n",
       "      <td>[145641.0, 182991.0, 239374.0, 246550.0, 32097...</td>\n",
       "      <td>[2013, 2014, 2015, 2016, 2017, 2018, 2019, 202...</td>\n",
       "    </tr>\n",
       "    <tr>\n",
       "      <th>RIAU</th>\n",
       "      <td>[280361.0, 280361.0, 280361.0, 280361.0, 28036...</td>\n",
       "      <td>[217296.0, 237941.0, 263543.0, 276157.0, 36099...</td>\n",
       "      <td>[2013, 2014, 2015, 2016, 2017, 2018, 2019, 202...</td>\n",
       "    </tr>\n",
       "    <tr>\n",
       "      <th>SULAWESI BARAT</th>\n",
       "      <td>[204476.0, 204476.0, 204476.0, 204476.0, 20447...</td>\n",
       "      <td>[140620.0, 155240.0, 175342.0, 210483.0, 21166...</td>\n",
       "      <td>[2013, 2014, 2015, 2016, 2017, 2018, 2019, 202...</td>\n",
       "    </tr>\n",
       "    <tr>\n",
       "      <th>SULAWESI SELATAN</th>\n",
       "      <td>[181842.0, 181842.0, 181842.0, 181842.0, 18184...</td>\n",
       "      <td>[128996.0, 144500.0, 148197.0, 208045.0, 22622...</td>\n",
       "      <td>[2013, 2014, 2015, 2016, 2017, 2018, 2019, 202...</td>\n",
       "    </tr>\n",
       "    <tr>\n",
       "      <th>SULAWESI TENGAH</th>\n",
       "      <td>[249419.0, 249419.0, 249419.0, 249419.0, 24941...</td>\n",
       "      <td>[140065.0, 162731.0, 184873.0, 222649.0, 26861...</td>\n",
       "      <td>[2013, 2014, 2015, 2016, 2017, 2018, 2019, 202...</td>\n",
       "    </tr>\n",
       "    <tr>\n",
       "      <th>SULAWESI TENGGARA</th>\n",
       "      <td>[190438.0, 190438.0, 190438.0, 190438.0, 19043...</td>\n",
       "      <td>[124540.0, 131739.0, 148526.0, 191015.0, 20888...</td>\n",
       "      <td>[2013, 2014, 2015, 2016, 2017, 2018, 2019, 202...</td>\n",
       "    </tr>\n",
       "    <tr>\n",
       "      <th>SULAWESI UTARA</th>\n",
       "      <td>[217995.0, 217995.0, 217995.0, 217995.0, 21799...</td>\n",
       "      <td>[173409.0, 180823.0, 205324.0, 251796.0, 28834...</td>\n",
       "      <td>[2013, 2014, 2015, 2016, 2017, 2018, 2019, 202...</td>\n",
       "    </tr>\n",
       "    <tr>\n",
       "      <th>SUMATERA BARAT</th>\n",
       "      <td>[288410.0, 288410.0, 288410.0, 288410.0, 28841...</td>\n",
       "      <td>[192079.0, 212391.0, 238274.0, 280748.0, 32589...</td>\n",
       "      <td>[2013, 2014, 2015, 2016, 2017, 2018, 2019, 202...</td>\n",
       "    </tr>\n",
       "    <tr>\n",
       "      <th>SUMATERA SELATAN</th>\n",
       "      <td>[263734.0, 263734.0, 263734.0, 263734.0, 26373...</td>\n",
       "      <td>[163629.0, 186102.0, 204521.0, 242246.0, 28699...</td>\n",
       "      <td>[2013, 2014, 2015, 2016, 2017, 2018, 2019, 202...</td>\n",
       "    </tr>\n",
       "    <tr>\n",
       "      <th>SUMATERA UTARA</th>\n",
       "      <td>[261677.0, 261677.0, 261677.0, 261677.0, 26167...</td>\n",
       "      <td>[171299.0, 198301.0, 219171.0, 248859.0, 30855...</td>\n",
       "      <td>[2013, 2014, 2015, 2016, 2017, 2018, 2019, 202...</td>\n",
       "    </tr>\n",
       "  </tbody>\n",
       "</table>\n",
       "</div>"
      ],
      "text/plain": [
       "                                                                     gk  \\\n",
       "provinsi                                                                  \n",
       "ACEH                  [293697.0, 293697.0, 293697.0, 293697.0, 29369...   \n",
       "BALI                  [226679.0, 226679.0, 226679.0, 226679.0, 22667...   \n",
       "BANTEN                [235211.0, 235211.0, 235211.0, 235211.0, 23521...   \n",
       "BENGKULU              [288387.0, 288387.0, 288387.0, 288387.0, 28838...   \n",
       "DI YOGYAKARTA         [238042.0, 238042.0, 238042.0, 238042.0, 23804...   \n",
       "DKI JAKARTA           [319595.0, 319595.0, 319595.0, 319595.0, 31959...   \n",
       "GORONTALO             [191995.0, 191995.0, 191995.0, 191995.0, 19199...   \n",
       "INDONESIA             [238278.0, 238278.0, 238278.0, 238278.0, 23827...   \n",
       "JAMBI                 [297507.0, 297507.0, 297507.0, 297507.0, 29750...   \n",
       "JAWA BARAT            [213479.0, 213479.0, 213479.0, 213479.0, 21347...   \n",
       "JAWA TENGAH           [210932.0, 210932.0, 210932.0, 210932.0, 21093...   \n",
       "JAWA TIMUR            [216139.0, 216139.0, 216139.0, 216139.0, 21613...   \n",
       "KALIMANTAN BARAT      [250029.0, 250029.0, 250029.0, 250029.0, 25002...   \n",
       "KALIMANTAN SELATAN    [229677.0, 229677.0, 229677.0, 229677.0, 22967...   \n",
       "KALIMANTAN TENGAH     [251976.0, 251976.0, 251976.0, 251976.0, 25197...   \n",
       "KALIMANTAN TIMUR      [337970.0, 337970.0, 337970.0, 337970.0, 33797...   \n",
       "KALIMANTAN UTARA      [342729.0, 342729.0, 342729.0, 342729.0, 34272...   \n",
       "KEP. BANGKA BELITUNG  [330178.0, 330178.0, 330178.0, 330178.0, 33017...   \n",
       "KEP. RIAU             [298998.0, 298998.0, 298998.0, 298998.0, 29899...   \n",
       "LAMPUNG               [260892.0, 260892.0, 260892.0, 260892.0, 26089...   \n",
       "MALUKU                [293811.0, 293811.0, 293811.0, 293811.0, 29381...   \n",
       "MALUKU UTARA          [279379.0, 279379.0, 279379.0, 279379.0, 27937...   \n",
       "NUSA TENGGARA BARAT   [238797.0, 238797.0, 238797.0, 238797.0, 23879...   \n",
       "NUSA TENGGARA TIMUR   [260406.0, 260406.0, 260406.0, 260406.0, 26040...   \n",
       "PAPUA                 [289615.0, 289615.0, 289615.0, 289615.0, 28961...   \n",
       "PAPUA BARAT           [328107.0, 328107.0, 328107.0, 328107.0, 32810...   \n",
       "RIAU                  [280361.0, 280361.0, 280361.0, 280361.0, 28036...   \n",
       "SULAWESI BARAT        [204476.0, 204476.0, 204476.0, 204476.0, 20447...   \n",
       "SULAWESI SELATAN      [181842.0, 181842.0, 181842.0, 181842.0, 18184...   \n",
       "SULAWESI TENGAH       [249419.0, 249419.0, 249419.0, 249419.0, 24941...   \n",
       "SULAWESI TENGGARA     [190438.0, 190438.0, 190438.0, 190438.0, 19043...   \n",
       "SULAWESI UTARA        [217995.0, 217995.0, 217995.0, 217995.0, 21799...   \n",
       "SUMATERA BARAT        [288410.0, 288410.0, 288410.0, 288410.0, 28841...   \n",
       "SUMATERA SELATAN      [263734.0, 263734.0, 263734.0, 263734.0, 26373...   \n",
       "SUMATERA UTARA        [261677.0, 261677.0, 261677.0, 261677.0, 26167...   \n",
       "\n",
       "                                                                   peng  \\\n",
       "provinsi                                                                  \n",
       "ACEH                  [195176.0, 218781.0, 247427.0, 275749.0, 30800...   \n",
       "BALI                  [167040.0, 167920.0, 183935.0, 234204.0, 27770...   \n",
       "BANTEN                [154658.0, 180920.0, 195712.0, 234517.0, 26238...   \n",
       "BENGKULU              [153883.0, 185289.0, 195910.0, 239474.0, 28180...   \n",
       "DI YOGYAKARTA         [131247.0, 141612.0, 159436.0, 195603.0, 22394...   \n",
       "DKI JAKARTA           [601201.1686613475, 601201.1686613475, 601201....   \n",
       "GORONTALO             [119765.0, 133510.0, 147191.0, 194224.0, 22625...   \n",
       "INDONESIA             [148613.0, 166583.0, 186741.0, 219803.0, 25492...   \n",
       "JAMBI                 [179472.0, 200524.0, 214071.0, 259432.0, 31228...   \n",
       "JAWA BARAT            [153304.0, 165387.0, 192426.0, 222277.0, 25047...   \n",
       "JAWA TENGAH           [125262.0, 138660.0, 156775.0, 183675.0, 21328...   \n",
       "JAWA TIMUR            [122358.0, 139244.0, 158112.0, 181119.0, 20796...   \n",
       "KALIMANTAN BARAT      [166791.0, 194968.0, 222253.0, 243618.0, 28362...   \n",
       "KALIMANTAN SELATAN    [189486.0, 211659.0, 244792.0, 288766.0, 34524...   \n",
       "KALIMANTAN TENGAH     [192555.0, 235185.0, 251330.0, 296577.0, 35934...   \n",
       "KALIMANTAN TIMUR      [189162.0, 208312.0, 223957.0, 287859.0, 34462...   \n",
       "KALIMANTAN UTARA      [601201.1686613475, 601201.1686613475, 601201....   \n",
       "KEP. BANGKA BELITUNG  [248396.0, 277071.0, 290870.0, 328440.0, 38947...   \n",
       "KEP. RIAU             [216349.0, 244200.0, 303902.0, 341117.0, 40021...   \n",
       "LAMPUNG               [143511.0, 159979.0, 166439.0, 200913.0, 24622...   \n",
       "MALUKU                [144773.0, 155561.0, 175256.0, 212195.0, 25367...   \n",
       "MALUKU UTARA          [177675.0, 191156.0, 211978.0, 251754.0, 25835...   \n",
       "NUSA TENGGARA BARAT   [127335.0, 153907.0, 169850.0, 205617.0, 23243...   \n",
       "NUSA TENGGARA TIMUR   [112287.0, 127838.0, 145969.0, 179358.0, 20077...   \n",
       "PAPUA                 [174794.0, 185796.0, 219375.0, 271703.0, 28970...   \n",
       "PAPUA BARAT           [145641.0, 182991.0, 239374.0, 246550.0, 32097...   \n",
       "RIAU                  [217296.0, 237941.0, 263543.0, 276157.0, 36099...   \n",
       "SULAWESI BARAT        [140620.0, 155240.0, 175342.0, 210483.0, 21166...   \n",
       "SULAWESI SELATAN      [128996.0, 144500.0, 148197.0, 208045.0, 22622...   \n",
       "SULAWESI TENGAH       [140065.0, 162731.0, 184873.0, 222649.0, 26861...   \n",
       "SULAWESI TENGGARA     [124540.0, 131739.0, 148526.0, 191015.0, 20888...   \n",
       "SULAWESI UTARA        [173409.0, 180823.0, 205324.0, 251796.0, 28834...   \n",
       "SUMATERA BARAT        [192079.0, 212391.0, 238274.0, 280748.0, 32589...   \n",
       "SUMATERA SELATAN      [163629.0, 186102.0, 204521.0, 242246.0, 28699...   \n",
       "SUMATERA UTARA        [171299.0, 198301.0, 219171.0, 248859.0, 30855...   \n",
       "\n",
       "                                                                tahun_x  \n",
       "provinsi                                                                 \n",
       "ACEH                  [2013, 2014, 2015, 2016, 2017, 2018, 2019, 202...  \n",
       "BALI                  [2013, 2014, 2015, 2016, 2017, 2018, 2019, 202...  \n",
       "BANTEN                [2013, 2014, 2015, 2016, 2017, 2018, 2019, 202...  \n",
       "BENGKULU              [2013, 2014, 2015, 2016, 2017, 2018, 2019, 202...  \n",
       "DI YOGYAKARTA         [2013, 2014, 2015, 2016, 2017, 2018, 2019, 202...  \n",
       "DKI JAKARTA           [2013, 2014, 2015, 2016, 2017, 2018, 2019, 202...  \n",
       "GORONTALO             [2013, 2014, 2015, 2016, 2017, 2018, 2019, 202...  \n",
       "INDONESIA             [2013, 2014, 2015, 2016, 2017, 2018, 2019, 202...  \n",
       "JAMBI                 [2013, 2014, 2015, 2016, 2017, 2018, 2019, 202...  \n",
       "JAWA BARAT            [2013, 2014, 2015, 2016, 2017, 2018, 2019, 202...  \n",
       "JAWA TENGAH           [2013, 2014, 2015, 2016, 2017, 2018, 2019, 202...  \n",
       "JAWA TIMUR            [2013, 2014, 2015, 2016, 2017, 2018, 2019, 202...  \n",
       "KALIMANTAN BARAT      [2013, 2014, 2015, 2016, 2017, 2018, 2019, 202...  \n",
       "KALIMANTAN SELATAN    [2013, 2014, 2015, 2016, 2017, 2018, 2019, 202...  \n",
       "KALIMANTAN TENGAH     [2013, 2014, 2015, 2016, 2017, 2018, 2019, 202...  \n",
       "KALIMANTAN TIMUR      [2013, 2014, 2015, 2016, 2017, 2018, 2019, 202...  \n",
       "KALIMANTAN UTARA      [2013, 2014, 2015, 2016, 2017, 2018, 2019, 202...  \n",
       "KEP. BANGKA BELITUNG  [2013, 2014, 2015, 2016, 2017, 2018, 2019, 202...  \n",
       "KEP. RIAU             [2013, 2014, 2015, 2016, 2017, 2018, 2019, 202...  \n",
       "LAMPUNG               [2013, 2014, 2015, 2016, 2017, 2018, 2019, 202...  \n",
       "MALUKU                [2013, 2014, 2015, 2016, 2017, 2018, 2019, 202...  \n",
       "MALUKU UTARA          [2013, 2014, 2015, 2016, 2017, 2018, 2019, 202...  \n",
       "NUSA TENGGARA BARAT   [2013, 2014, 2015, 2016, 2017, 2018, 2019, 202...  \n",
       "NUSA TENGGARA TIMUR   [2013, 2014, 2015, 2016, 2017, 2018, 2019, 202...  \n",
       "PAPUA                 [2013, 2014, 2015, 2016, 2017, 2018, 2019, 202...  \n",
       "PAPUA BARAT           [2013, 2014, 2015, 2016, 2017, 2018, 2019, 202...  \n",
       "RIAU                  [2013, 2014, 2015, 2016, 2017, 2018, 2019, 202...  \n",
       "SULAWESI BARAT        [2013, 2014, 2015, 2016, 2017, 2018, 2019, 202...  \n",
       "SULAWESI SELATAN      [2013, 2014, 2015, 2016, 2017, 2018, 2019, 202...  \n",
       "SULAWESI TENGAH       [2013, 2014, 2015, 2016, 2017, 2018, 2019, 202...  \n",
       "SULAWESI TENGGARA     [2013, 2014, 2015, 2016, 2017, 2018, 2019, 202...  \n",
       "SULAWESI UTARA        [2013, 2014, 2015, 2016, 2017, 2018, 2019, 202...  \n",
       "SUMATERA BARAT        [2013, 2014, 2015, 2016, 2017, 2018, 2019, 202...  \n",
       "SUMATERA SELATAN      [2013, 2014, 2015, 2016, 2017, 2018, 2019, 202...  \n",
       "SUMATERA UTARA        [2013, 2014, 2015, 2016, 2017, 2018, 2019, 202...  "
      ]
     },
     "execution_count": 45,
     "metadata": {},
     "output_type": "execute_result"
    }
   ],
   "source": [
    "df_gk_peng.groupby('provinsi').agg({\n",
    "    'gk': lambda x: list(x),\n",
    "    'peng': lambda x: list(x),\n",
    "    'tahun_x': lambda x: sorted(x.unique().tolist())  # Mengurutkan tahun secara unik\n",
    "})"
   ]
  },
  {
   "cell_type": "code",
   "execution_count": 46,
   "metadata": {},
   "outputs": [],
   "source": [
    "df_gk_peng.to_csv('df_combined2.csv', index=False)"
   ]
  },
  {
   "cell_type": "markdown",
   "metadata": {},
   "source": [
    "# Exploratory Data Analysis (EDA)"
   ]
  },
  {
   "cell_type": "markdown",
   "metadata": {},
   "source": [
    "1. Specifict\n",
    "- apa saja 5 provinsi dengan upah tertinggi dan terendah ?"
   ]
  },
  {
   "cell_type": "code",
   "execution_count": 47,
   "metadata": {},
   "outputs": [
    {
     "data": {
      "image/png": "[encoded data removed]",
      "text/plain": [
       "<Figure size 1500x500 with 2 Axes>"
      ]
     },
     "metadata": {},
     "output_type": "display_data"
    }
   ],
   "source": [
    "plt.figure(figsize=(15, 5))\n",
    "\n",
    "plt.subplot(1, 2, 1)\n",
    "plt.barh(upah_5_tertinggi['provinsi'], upah_5_terendah['upah'], color='salmon')\n",
    "plt.title('Upah Tertinggi per jam 2022')\n",
    "plt.xlabel('Upah per jam')\n",
    "plt.ylabel('Provinsi')\n",
    "\n",
    "plt.subplot(1, 2, 2)\n",
    "plt.barh(upah_5_terendah['provinsi'], upah_5_tertinggi['upah'], color='skyblue')\n",
    "plt.title('Upah Terendah per jam 2022')\n",
    "plt.xlabel('Upah per jam')\n",
    "plt.ylabel('Provinsi')\n",
    "\n",
    "plt.tight_layout()\n",
    "plt.show()"
   ]
  },
  {
   "cell_type": "markdown",
   "metadata": {},
   "source": [
    "2. Measurable\n",
    "- berapa UMP dalam 5 provinsi tertinggi dan terendah ?"
   ]
  },
  {
   "cell_type": "code",
   "execution_count": 48,
   "metadata": {},
   "outputs": [
    {
     "data": {
      "image/png": "[encoded data removed]",
      "text/plain": [
       "<Figure size 1500x500 with 2 Axes>"
      ]
     },
     "metadata": {},
     "output_type": "display_data"
    }
   ],
   "source": [
    "plt.figure(figsize=(15, 5))\n",
    "\n",
    "plt.subplot(1, 2, 1)\n",
    "plt.barh(ump_5_tertinggi['provinsi'], ump_5_terendah['ump'], color='darkblue')\n",
    "plt.title('UMP Tertinggi per upah 2022')\n",
    "plt.xlabel('UMP per upah')\n",
    "plt.ylabel('Provinsi')\n",
    "\n",
    "plt.subplot(1, 2, 2)\n",
    "plt.barh(ump_5_terendah['provinsi'], ump_5_tertinggi['ump'], color='skyblue')\n",
    "plt.title('UMP Terendah per upah 2022')\n",
    "plt.xlabel('UMP per upah')\n",
    "plt.ylabel('Provinsi')\n",
    "\n",
    "plt.tight_layout()\n",
    "plt.show()"
   ]
  },
  {
   "cell_type": "markdown",
   "metadata": {},
   "source": [
    "3. Action-oriented\n",
    "- Bagaimana cara meningkatkan UMP setiap provinsi yang terendah? untuk mendapatkan upah yang layak agar mengatasi garis kemiskinan "
   ]
  },
  {
   "cell_type": "code",
   "execution_count": 49,
   "metadata": {},
   "outputs": [
    {
     "data": {
      "image/png": "[encoded data removed]",
      "text/plain": [
       "<Figure size 1200x500 with 1 Axes>"
      ]
     },
     "metadata": {},
     "output_type": "display_data"
    }
   ],
   "source": [
    "# Menggunakan palet warna yang cerah\n",
    "bright_palette = sns.color_palette(\"magma\", 10)\n",
    "\n",
    "plt.figure(figsize=(12, 5))\n",
    "sns.lineplot(x=\"tahun\", y=\"ump\", data=ump_filtered, hue='provinsi', palette=bright_palette)\n",
    "plt.title('UMP 10 Provinsi (5 Upah Tertinggi dan 5 Upah Terendah)')\n",
    "plt.xlabel('Tahun')\n",
    "plt.ylabel('Upah Minimum Provinsi')\n",
    "\n",
    "# Mengatur format label tahun\n",
    "ax = plt.gca()\n",
    "formatter = ticker.ScalarFormatter()\n",
    "formatter.set_scientific(False)  # Menonaktifkan notasi ilmiah\n",
    "ax.yaxis.set_major_formatter(formatter)\n",
    "ax.xaxis.set_major_formatter(ticker.FormatStrFormatter('%d'))  # Format tahun tanpa desimal\n",
    "\n",
    "plt.grid(True)\n",
    "plt.show()"
   ]
  },
  {
   "cell_type": "markdown",
   "metadata": {},
   "source": [
    "4. Relavant \n",
    "-  Bagaimana mengatasi garis kemiskinan untuk pekerja mendapatkan upah yang layak agar mengatasi permasalahan pengeluaran, untuk kesejahteraan pekerja tersebut?"
   ]
  },
  {
   "cell_type": "code",
   "execution_count": 50,
   "metadata": {},
   "outputs": [
    {
     "data": {
      "image/png": "[encoded data removed]",
      "text/plain": [
       "<Figure size 640x480 with 1 Axes>"
      ]
     },
     "metadata": {},
     "output_type": "display_data"
    }
   ],
   "source": [
    "pengeluaran_provinsi = df_peng[(df_peng['provinsi'] == 'INDONESIA') ]\n",
    "\n",
    "# line chart upah provinsi \n",
    "sns.lineplot(x=\"tahun\", y=\"peng\", data=pengeluaran_provinsi, hue='provinsi')\n",
    "plt.title('Tren Rata-rata Pengeluaran Pekerja')\n",
    "plt.xlabel('Tahun')\n",
    "plt.ylabel('Pengeluaran Pekerja')\n",
    "\n",
    "# Mengatur format label tahun \n",
    "ax = plt.gca()\n",
    "formatter = ticker.ScalarFormatter()\n",
    "formatter.set_scientific(False)  # Menonaktifkan notasi ilmiah\n",
    "ax.yaxis.set_major_formatter(formatter)\n",
    "ax.xaxis.set_major_formatter(ticker.FormatStrFormatter('%d'))  # Format tahun tanpa desimal\n",
    "\n",
    "plt.show()\n",
    "\n"
   ]
  },
  {
   "cell_type": "code",
   "execution_count": 51,
   "metadata": {},
   "outputs": [],
   "source": [
    "# # Menggabungkan df_gk dan df_peng berdasarkan 'provinsi'\n",
    "# df_gk_peng = pd.merge(left=df_gk, right=df_peng, how='left', left_on='provinsi', right_on='provinsi')\n",
    "\n",
    "# # Menambahkan kolom 'kelebihan_upah' sebagai selisih antara upah dan garis kemiskinan\n",
    "# df_gk_peng['kelebihan_upah'] = df_gk_peng['peng'] - df_gk_peng['gk']\n",
    "\n",
    "# # Menambahkan kolom 'sisa_pengeluaran' sebagai selisih antara pengeluaran dan upah\n",
    "# df_gk_peng['sisa_pengeluaran'] = df_gk_peng['peng'] - df_gk_peng['gk']\n",
    "\n",
    "# # Visualisasi hubungan antara kelebihan upah dan sisa pengeluaran\n",
    "# plt.figure(figsize=(10, 6))\n",
    "# sns.scatterplot(x='kelebihan_upah', y='sisa_pengeluaran', data=df_gk_peng, hue='kelebihan_upah', palette='viridis')\n",
    "# plt.title('Hubungan Kelebihan Upah dan Sisa Pengeluaran')\n",
    "# plt.xlabel('Kelebihan Upah')\n",
    "# plt.ylabel('Sisa Pengeluaran')\n",
    "\n",
    "# plt.show()"
   ]
  },
  {
   "cell_type": "code",
   "execution_count": 52,
   "metadata": {},
   "outputs": [],
   "source": [
    "# selected_provinsi = df_upah['provinsi'].unique().tolist()\n",
    "# selected_provinsi.sort()\n",
    "\n",
    "# # Memfilter DataFrame berdasarkan provinsi yang diinginkan\n",
    "# upah_provinsi = df_upah[df_upah['provinsi'].isin(selected_provinsi)]\n",
    "\n",
    "# # Line chart upah provinsi\n",
    "# plt.figure(figsize=(10, 6))\n",
    "# sns.lineplot(x=\"tahun\", y=\"upah\", data=upah_provinsi, hue='provinsi', marker='o')\n",
    "# plt.title('Tren Rata-rata upah dari pekerja dengan pengeluaran')\n",
    "# plt.xlabel('Tahun')\n",
    "# plt.ylabel('Upah Pekerja per Jam')\n",
    "\n",
    "# # Mengatur format label tahun\n",
    "# ax = plt.gca()\n",
    "# formatter = ticker.ScalarFormatter()\n",
    "# formatter.set_scientific(False)  # Menonaktifkan notasi ilmiah\n",
    "# ax.yaxis.set_major_formatter(formatter)\n",
    "# ax.xaxis.set_major_formatter(ticker.FormatStrFormatter('%d'))  # Format tahun tanpa desimal\n",
    "\n",
    "# # Menempatkan legend di luar area\n",
    "# plt.legend(loc='center left', bbox_to_anchor=(1, 0.5))\n",
    "# plt.show()"
   ]
  },
  {
   "cell_type": "markdown",
   "metadata": {},
   "source": [
    "5. Time-Bounded\n",
    "- Bagaimana tren rata-rata upah pekerja per jam di berbagai provinsi selama beberapa tahun terakhir?"
   ]
  },
  {
   "cell_type": "code",
   "execution_count": 53,
   "metadata": {},
   "outputs": [
    {
     "data": {
      "image/png": "[encoded data removed]",
      "text/plain": [
       "<Figure size 640x480 with 1 Axes>"
      ]
     },
     "metadata": {},
     "output_type": "display_data"
    }
   ],
   "source": [
    "upah_provinsi = df_upah[(df_upah['provinsi'] == 'INDONESIA') ]\n",
    "\n",
    "# line chart upah provinsi \n",
    "sns.lineplot(x=\"tahun\", y=\"upah\", data=upah_provinsi, hue='provinsi')\n",
    "plt.title('Tren Rata-rata Upah Pekerja per jam')\n",
    "plt.xlabel('Tahun')\n",
    "plt.ylabel('Upah Pekerja per jam')\n",
    "\n",
    "# Mengatur format label tahun \n",
    "ax = plt.gca()\n",
    "formatter = ticker.ScalarFormatter()\n",
    "formatter.set_scientific(False)  # Menonaktifkan notasi ilmiah\n",
    "ax.yaxis.set_major_formatter(formatter)\n",
    "ax.xaxis.set_major_formatter(ticker.FormatStrFormatter('%d'))  # Format tahun tanpa desimal\n",
    "\n",
    "plt.show()"
   ]
  },
  {
   "cell_type": "markdown",
   "metadata": {},
   "source": [
    "# Data Preprocessing "
   ]
  },
  {
   "cell_type": "code",
   "execution_count": 54,
   "metadata": {},
   "outputs": [
    {
     "name": "stdout",
     "output_type": "stream",
     "text": [
      "     tahun           provinsi        gk        ump      peng     upah\n",
      "0     2015               ACEH  266577.0  1900000.0  534164.0  11226.0\n",
      "1     2015               BALI  216182.0  1621172.0  678932.0  11038.0\n",
      "2     2015             BANTEN  228726.0  1600000.0  644492.0  14228.0\n",
      "3     2015           BENGKULU  265594.0  1500000.0  562637.0  12491.0\n",
      "4     2015      DI YOGYAKARTA  225278.0   988500.0  585323.0  10440.0\n",
      "..     ...                ...       ...        ...       ...      ...\n",
      "275   2022  SULAWESI TENGGARA  280516.0  2710596.0  769230.0  17542.0\n",
      "276   2022     SULAWESI UTARA  293572.0  3310723.0  819368.0  18335.0\n",
      "277   2022     SUMATERA BARAT  421526.0  2512539.0  896838.0  15887.0\n",
      "278   2022   SUMATERA SELATAN  335999.0  3144446.0  784480.0  15978.0\n",
      "279   2022     SUMATERA UTARA  383272.0  2522610.0  802326.0  15131.0\n",
      "\n",
      "[280 rows x 6 columns]\n",
      "     Year           Province  Poverty-Line  Min-Monthly-Salary  Monthly-Expense  Avg-Hourly-Salary\n",
      "0    2015               ACEH      266577.0           1900000.0         534164.0            11226.0\n",
      "1    2015               BALI      216182.0           1621172.0         678932.0            11038.0\n",
      "2    2015             BANTEN      228726.0           1600000.0         644492.0            14228.0\n",
      "3    2015           BENGKULU      265594.0           1500000.0         562637.0            12491.0\n",
      "4    2015      DI YOGYAKARTA      225278.0            988500.0         585323.0            10440.0\n",
      "..    ...                ...           ...                 ...              ...                ...\n",
      "275  2022  SULAWESI TENGGARA      280516.0           2710596.0         769230.0            17542.0\n",
      "276  2022     SULAWESI UTARA      293572.0           3310723.0         819368.0            18335.0\n",
      "277  2022     SUMATERA BARAT      421526.0           2512539.0         896838.0            15887.0\n",
      "278  2022   SUMATERA SELATAN      335999.0           3144446.0         784480.0            15978.0\n",
      "279  2022     SUMATERA UTARA      383272.0           2522610.0         802326.0            15131.0\n",
      "\n",
      "[280 rows x 6 columns]\n"
     ]
    }
   ],
   "source": [
    "gkYearly = df_gk.query(\"tahun >= 2015\").groupby(['tahun', 'provinsi'])['gk'].mean().round(0)\n",
    "umpYearly = df_ump.query(\"tahun >= 2015\").groupby(['tahun', 'provinsi'])['ump'].mean().round(0)\n",
    "pengeluaranYearly = df_peng.query(\"tahun >= 2015\").groupby(['tahun', 'provinsi'])['peng'].mean().round(0)\n",
    "upahYearly = df_upah.query(\"tahun >= 2015\").groupby(['tahun', 'provinsi'])['upah'].mean().round(0)\n",
    "\n",
    "# Menggabungkan sumber data menjadi 1 dataframe\n",
    "resultNotIndexed = pd.concat([gkYearly, umpYearly, pengeluaranYearly, upahYearly], axis=1, join='outer')\n",
    "all_df = pd.concat([gkYearly, umpYearly, pengeluaranYearly, upahYearly], axis=1, join='outer').reset_index()\n",
    "\n",
    "pd.set_option('display.max_rows', 10)\n",
    "pd.set_option('display.max_columns', None)\n",
    "pd.set_option('display.width', 1000)\n",
    "print(all_df)\n",
    "\n",
    "# merubah nama kolom\n",
    "all_df.rename(columns = {'tahun':'Year', 'provinsi':'Province', 'ump':'Min-Monthly-Salary', 'gk':'Poverty-Line', 'peng':'Monthly-Expense', 'upah':'Avg-Hourly-Salary'}, inplace = True)\n",
    "\n",
    "print(all_df)"
   ]
  },
  {
   "cell_type": "code",
   "execution_count": 55,
   "metadata": {},
   "outputs": [],
   "source": [
    "from sklearn.model_selection import train_test_split\n",
    "\n",
    "X = all_df[['Min-Monthly-Salary', 'Monthly-Expense', 'Avg-Hourly-Salary']]\n",
    "y = all_df['Poverty-Line']\n",
    "\n",
    "X_train, X_test, y_train, y_test = train_test_split(X, y, test_size=0.2, random_state=42)"
   ]
  },
  {
   "cell_type": "code",
   "execution_count": 56,
   "metadata": {},
   "outputs": [
    {
     "name": "stdout",
     "output_type": "stream",
     "text": [
      "(224, 3) (56, 3) (224,) (56,)\n"
     ]
    },
    {
     "data": {
      "text/plain": [
       "pandas.core.frame.DataFrame"
      ]
     },
     "execution_count": 56,
     "metadata": {},
     "output_type": "execute_result"
    }
   ],
   "source": [
    "print(X_train.shape, X_test.shape, y_train.shape, y_test.shape)\n",
    "type(X_train)"
   ]
  },
  {
   "cell_type": "code",
   "execution_count": 57,
   "metadata": {},
   "outputs": [
    {
     "data": {
      "text/html": [
       "<style>#sk-container-id-1 {color: black;}#sk-container-id-1 pre{padding: 0;}#sk-container-id-1 div.sk-toggleable {background-color: white;}#sk-container-id-1 label.sk-toggleable__label {cursor: pointer;display: block;width: 100%;margin-bottom: 0;padding: 0.3em;box-sizing: border-box;text-align: center;}#sk-container-id-1 label.sk-toggleable__label-arrow:before {content: \"▸\";float: left;margin-right: 0.25em;color: #696969;}#sk-container-id-1 label.sk-toggleable__label-arrow:hover:before {color: black;}#sk-container-id-1 div.sk-estimator:hover label.sk-toggleable__label-arrow:before {color: black;}#sk-container-id-1 div.sk-toggleable__content {max-height: 0;max-width: 0;overflow: hidden;text-align: left;background-color: #f0f8ff;}#sk-container-id-1 div.sk-toggleable__content pre {margin: 0.2em;color: black;border-radius: 0.25em;background-color: #f0f8ff;}#sk-container-id-1 input.sk-toggleable__control:checked~div.sk-toggleable__content {max-height: 200px;max-width: 100%;overflow: auto;}#sk-container-id-1 input.sk-toggleable__control:checked~label.sk-toggleable__label-arrow:before {content: \"▾\";}#sk-container-id-1 div.sk-estimator input.sk-toggleable__control:checked~label.sk-toggleable__label {background-color: #d4ebff;}#sk-container-id-1 div.sk-label input.sk-toggleable__control:checked~label.sk-toggleable__label {background-color: #d4ebff;}#sk-container-id-1 input.sk-hidden--visually {border: 0;clip: rect(1px 1px 1px 1px);clip: rect(1px, 1px, 1px, 1px);height: 1px;margin: -1px;overflow: hidden;padding: 0;position: absolute;width: 1px;}#sk-container-id-1 div.sk-estimator {font-family: monospace;background-color: #f0f8ff;border: 1px dotted black;border-radius: 0.25em;box-sizing: border-box;margin-bottom: 0.5em;}#sk-container-id-1 div.sk-estimator:hover {background-color: #d4ebff;}#sk-container-id-1 div.sk-parallel-item::after {content: \"\";width: 100%;border-bottom: 1px solid gray;flex-grow: 1;}#sk-container-id-1 div.sk-label:hover label.sk-toggleable__label {background-color: #d4ebff;}#sk-container-id-1 div.sk-serial::before {content: \"\";position: absolute;border-left: 1px solid gray;box-sizing: border-box;top: 0;bottom: 0;left: 50%;z-index: 0;}#sk-container-id-1 div.sk-serial {display: flex;flex-direction: column;align-items: center;background-color: white;padding-right: 0.2em;padding-left: 0.2em;position: relative;}#sk-container-id-1 div.sk-item {position: relative;z-index: 1;}#sk-container-id-1 div.sk-parallel {display: flex;align-items: stretch;justify-content: center;background-color: white;position: relative;}#sk-container-id-1 div.sk-item::before, #sk-container-id-1 div.sk-parallel-item::before {content: \"\";position: absolute;border-left: 1px solid gray;box-sizing: border-box;top: 0;bottom: 0;left: 50%;z-index: -1;}#sk-container-id-1 div.sk-parallel-item {display: flex;flex-direction: column;z-index: 1;position: relative;background-color: white;}#sk-container-id-1 div.sk-parallel-item:first-child::after {align-self: flex-end;width: 50%;}#sk-container-id-1 div.sk-parallel-item:last-child::after {align-self: flex-start;width: 50%;}#sk-container-id-1 div.sk-parallel-item:only-child::after {width: 0;}#sk-container-id-1 div.sk-dashed-wrapped {border: 1px dashed gray;margin: 0 0.4em 0.5em 0.4em;box-sizing: border-box;padding-bottom: 0.4em;background-color: white;}#sk-container-id-1 div.sk-label label {font-family: monospace;font-weight: bold;display: inline-block;line-height: 1.2em;}#sk-container-id-1 div.sk-label-container {text-align: center;}#sk-container-id-1 div.sk-container {/* jupyter's `normalize.less` sets `[hidden] { display: none; }` but bootstrap.min.css set `[hidden] { display: none !important; }` so we also need the `!important` here to be able to override the default hidden behavior on the sphinx rendered scikit-learn.org. See: https://github.com/scikit-learn/scikit-learn/issues/21755 */display: inline-block !important;position: relative;}#sk-container-id-1 div.sk-text-repr-fallback {display: none;}</style><div id=\"sk-container-id-1\" class=\"sk-top-container\"><div class=\"sk-text-repr-fallback\"><pre>LinearRegression()</pre><b>In a Jupyter environment, please rerun this cell to show the HTML representation or trust the notebook. <br />On GitHub, the HTML representation is unable to render, please try loading this page with nbviewer.org.</b></div><div class=\"sk-container\" hidden><div class=\"sk-item\"><div class=\"sk-estimator sk-toggleable\"><input class=\"sk-toggleable__control sk-hidden--visually\" id=\"sk-estimator-id-1\" type=\"checkbox\" checked><label for=\"sk-estimator-id-1\" class=\"sk-toggleable__label sk-toggleable__label-arrow\">LinearRegression</label><div class=\"sk-toggleable__content\"><pre>LinearRegression()</pre></div></div></div></div></div>"
      ],
      "text/plain": [
       "LinearRegression()"
      ]
     },
     "execution_count": 57,
     "metadata": {},
     "output_type": "execute_result"
    }
   ],
   "source": [
    "from sklearn.linear_model import LinearRegression\n",
    "\n",
    "\n",
    "model = LinearRegression()\n",
    "\n",
    "model.fit(X_train, y_train)"
   ]
  },
  {
   "cell_type": "code",
   "execution_count": 58,
   "metadata": {},
   "outputs": [
    {
     "name": "stdout",
     "output_type": "stream",
     "text": [
      "Mean Squared Error: 1961943415.82\n",
      "R-squared: 0.59\n"
     ]
    }
   ],
   "source": [
    "from sklearn.metrics import mean_squared_error, r2_score\n",
    "\n",
    "\n",
    "y_pred = model.predict(X_test)\n",
    "\n",
    "mse = mean_squared_error(y_test, y_pred)\n",
    "\n",
    "r2 = r2_score(y_test, y_pred)\n",
    "\n",
    "\n",
    "print(f'Mean Squared Error: {mse:.2f}')\n",
    "\n",
    "print(f'R-squared: {r2:.2f}')"
   ]
  },
  {
   "cell_type": "code",
   "execution_count": 59,
   "metadata": {},
   "outputs": [
    {
     "name": "stdout",
     "output_type": "stream",
     "text": [
      "Predicted Poverty Line: 201835.97\n"
     ]
    }
   ],
   "source": [
    "import joblib\n",
    "\n",
    "\n",
    "joblib.dump(model, 'poverty_model.joblib')\n",
    "\n",
    "\n",
    "# Load the model from the file\n",
    "\n",
    "loaded_model = joblib.load('poverty_model.joblib')\n",
    "\n",
    "\n",
    "# Use the loaded model to make predictions\n",
    "\n",
    "new_data = [[1000000, 500000, 5000]]\n",
    "\n",
    "prediction = loaded_model.predict(new_data)\n",
    "\n",
    "print(f'Predicted Poverty Line: {prediction[0]:.2f}')"
   ]
  }
 ],
 "metadata": {
  "kernelspec": {
   "display_name": "Python 3",
   "language": "python",
   "name": "python3"
  },
  "language_info": {
   "codemirror_mode": {
    "name": "ipython",
    "version": 3
   },
   "file_extension": ".py",
   "mimetype": "text/x-python",
   "name": "python",
   "nbconvert_exporter": "python",
   "pygments_lexer": "ipython3",
   "version": "3.11.5"
  }
 },
 "nbformat": 4,
 "nbformat_minor": 2
}
